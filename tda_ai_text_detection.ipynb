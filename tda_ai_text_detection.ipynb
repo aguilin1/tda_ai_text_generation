{
  "nbformat": 4,
  "nbformat_minor": 0,
  "metadata": {
    "colab": {
      "provenance": []
    },
    "kernelspec": {
      "name": "python3",
      "display_name": "Python 3"
    },
    "language_info": {
      "name": "python"
    }
  },
  "cells": [
    {
      "cell_type": "code",
      "source": [
        "!git clone https://github.com/aguilin1/tda_ai_text_generation.git"
      ],
      "metadata": {
        "id": "rNoNDVYHKGF_",
        "outputId": "819e949a-a5d1-4108-d340-d47a443b4dae",
        "colab": {
          "base_uri": "https://localhost:8080/"
        }
      },
      "execution_count": null,
      "outputs": [
        {
          "output_type": "stream",
          "name": "stdout",
          "text": [
            "Cloning into 'tda_ai_text_generation'...\n",
            "remote: Enumerating objects: 33, done.\u001b[K\n",
            "remote: Counting objects: 100% (33/33), done.\u001b[K\n",
            "remote: Compressing objects: 100% (31/31), done.\u001b[K\n",
            "remote: Total 33 (delta 18), reused 0 (delta 0), pack-reused 0 (from 0)\u001b[K\n",
            "Receiving objects: 100% (33/33), 137.51 KiB | 1.08 MiB/s, done.\n",
            "Resolving deltas: 100% (18/18), done.\n"
          ]
        }
      ]
    },
    {
      "cell_type": "code",
      "execution_count": null,
      "metadata": {
        "id": "RnbbJceiiAO3",
        "outputId": "1e062df1-fe50-41a3-d50d-052b2226db74",
        "colab": {
          "base_uri": "https://localhost:8080/"
        }
      },
      "outputs": [
        {
          "output_type": "execute_result",
          "data": {
            "text/plain": [
              "['In this study, we investigate the coupling loss on bi-columnar BSCCO/Ag tapes using a.c. susceptibility measurements. The bi-columnar structure of BSCCO tapes is known to offer several advantages over traditional tape configurations, including increased tolerance to magnetic field disturbances. However, the effects of the Bi-2212/Ag interface on the coupling between the superconducting filaments of the BSCCO tape is not well understood. Our experiments show that the coupling loss is dominated by the Bi-2212/Ag interface and varies significantly with the orientation and magnitude of the applied a.c. magnetic field. Specifically, coupling loss is found to be lower for in-plane magnetic fields and higher for out-of-plane magnetic fields. We also observe that the annealing of the tapes significantly affects the coupling loss, as annealed tapes exhibit lower loss values than unannealed tapes. Furthermore, we find that the coupling loss is sensitive to the orientation of the Ag matrix, as demonstrated by measurements on tapes with both transverse and longitudinal matrix orientation. Finally, we use numerical simulations to confirm the validity of our experimental results. Overall, this study provides important insights into the coupling loss mechanisms in bi-columnar BSCCO/Ag tapes, which are highly relevant for the development of practical applications of high-temperature superconductors.',\n",
              " 'In this paper, we investigate Weighted Solyanik Estimates for the Strong Maximal Function. The purpose of this study is to determine the optimal range of weights for which the Solyanik estimates hold true for the strong maximal function in both dyadic and non-dyadic contexts. Our work is motivated by recent developments in the area of harmonic analysis and Fourier analysis, which have demonstrated the importance of the strong maximal function in many areas of mathematics. We begin our investigation by defining the strong maximal function and introducing the weighted Solyanik estimates. We then analyze the properties of the strong maximal function and its relationship to weighted estimates. Our findings demonstrate that the range of suitable weights for the Solyanik estimates is significantly larger in the dyadic context than in the non-dyadic context. Moreover, we establish new estimates for the strong maximal function in the dyadic context, which improve upon existing results. Our study contributes to the development of more precise and accurate techniques for analyzing the strong maximal function, and may have potential applications in other areas of mathematics as well. In conclusion, our investigation of Weighted Solyanik Estimates for the Strong Maximal Function provides new insights into this important topic in harmonic analysis, and we expect our results to be of interest to researchers in this field and related areas of study.']"
            ]
          },
          "metadata": {},
          "execution_count": 2
        }
      ],
      "source": [
        "import csv\n",
        "\n",
        "DATA_FILE = '/content/tda_ai_text_generation/research-abstracts-labeled-first-100.csv'\n",
        "\n",
        "human_texts = []\n",
        "ai_texts = []\n",
        "with open(DATA_FILE) as csv_file:\n",
        "    csv_reader = csv.reader(csv_file, delimiter=',')\n",
        "    next(csv_reader, None) # Skip header row\n",
        "    for row in csv_reader:\n",
        "      if row[1] == '0':\n",
        "        human_texts.append(row[2])\n",
        "      else:\n",
        "        ai_texts.append(row[2])\n",
        "# Print first 2 rows to sanity check\n",
        "ai_texts[:2]"
      ]
    },
    {
      "cell_type": "code",
      "source": [
        "!pip install nltk"
      ],
      "metadata": {
        "id": "x88OSoqsKghJ",
        "outputId": "002b4bea-8301-48fb-d328-c0fd85d42011",
        "colab": {
          "base_uri": "https://localhost:8080/"
        }
      },
      "execution_count": null,
      "outputs": [
        {
          "output_type": "stream",
          "name": "stdout",
          "text": [
            "Requirement already satisfied: nltk in /usr/local/lib/python3.11/dist-packages (3.9.1)\n",
            "Requirement already satisfied: click in /usr/local/lib/python3.11/dist-packages (from nltk) (8.1.8)\n",
            "Requirement already satisfied: joblib in /usr/local/lib/python3.11/dist-packages (from nltk) (1.4.2)\n",
            "Requirement already satisfied: regex>=2021.8.3 in /usr/local/lib/python3.11/dist-packages (from nltk) (2024.11.6)\n",
            "Requirement already satisfied: tqdm in /usr/local/lib/python3.11/dist-packages (from nltk) (4.67.1)\n"
          ]
        }
      ]
    },
    {
      "cell_type": "code",
      "source": [
        "import string\n",
        "import nltk\n",
        "from transformers import BertTokenizer, BertModel\n",
        "from sentence_transformers import SentenceTransformer\n",
        "from sklearn.feature_extraction.text import CountVectorizer\n",
        "from nltk.stem import WordNetLemmatizer\n",
        "from nltk.tokenize import sent_tokenize, word_tokenize\n",
        "from nltk.corpus import stopwords\n",
        "import torch\n",
        "\n",
        "# ENCODING_TYPE = 'bow'\n",
        "ENCODING_TYPE = 'sentence-bert'\n",
        "\n",
        "nltk.download('punkt_tab')\n",
        "nltk.download('stopwords')\n",
        "nltk.download('wordnet')\n",
        "\n",
        "stop_words = set(stopwords.words(\"english\"))\n",
        "\n",
        "bert_model = SentenceTransformer(\"all-MiniLM-L6-v2\")\n",
        "bert_tokenizer = BertTokenizer.from_pretrained('bert-base-uncased')\n",
        "\n",
        "wnl = WordNetLemmatizer()\n",
        "\n",
        "text = ai_texts[0]\n",
        "\n",
        "sentences = sent_tokenize(text)\n",
        "tokens = sentences\n",
        "\n",
        "if ENCODING_TYPE == 'bow':\n",
        "  proceesed_sentences = []\n",
        "  for sentence in sentences:\n",
        "    # Uncomment to remve punctuation if not doing sentence-level transform\n",
        "    sentence = sentence.translate(str.maketrans('', '', string.punctuation))\n",
        "\n",
        "    filtered_text = []\n",
        "\n",
        "    for word in word_tokenize(sentence):\n",
        "      filtered_text.append(wnl.lemmatize(word, pos=\"v\").lower())\n",
        "\n",
        "    post_filtered_text = ' '.join(filtered_text)\n",
        "    proceesed_sentences.append(post_filtered_text)\n",
        "  vectorizer = CountVectorizer()\n",
        "  embeddings = vectorizer.fit_transform(proceesed_sentences)\n",
        "\n",
        "\n",
        "elif ENCODING_TYPE == 'sentence-bert':\n",
        "  embeddings = bert_model.encode(sentences)\n",
        "\n"
      ],
      "metadata": {
        "id": "UuzdYItZKcti",
        "outputId": "9a44c8f9-8c07-4a87-ceb9-525234d99ba9",
        "colab": {
          "base_uri": "https://localhost:8080/",
          "height": 127
        }
      },
      "execution_count": null,
      "outputs": [
        {
          "output_type": "display_data",
          "data": {
            "text/plain": [
              "<IPython.core.display.HTML object>"
            ],
            "text/html": [
              "\n",
              "  <style>\n",
              "    pre {\n",
              "        white-space: pre-wrap;\n",
              "    }\n",
              "  </style>\n",
              "  "
            ]
          },
          "metadata": {}
        },
        {
          "output_type": "display_data",
          "data": {
            "text/plain": [
              "<IPython.core.display.HTML object>"
            ],
            "text/html": [
              "\n",
              "  <style>\n",
              "    pre {\n",
              "        white-space: pre-wrap;\n",
              "    }\n",
              "  </style>\n",
              "  "
            ]
          },
          "metadata": {}
        },
        {
          "output_type": "stream",
          "name": "stderr",
          "text": [
            "[nltk_data] Downloading package punkt_tab to /root/nltk_data...\n",
            "[nltk_data]   Package punkt_tab is already up-to-date!\n",
            "[nltk_data] Downloading package stopwords to /root/nltk_data...\n",
            "[nltk_data]   Package stopwords is already up-to-date!\n",
            "[nltk_data] Downloading package wordnet to /root/nltk_data...\n",
            "[nltk_data]   Package wordnet is already up-to-date!\n"
          ]
        }
      ]
    },
    {
      "cell_type": "code",
      "source": [
        "# This section generates and reformats the cosine similarity distances between\n",
        "# each pair of points and generates an array of all possible threshold values\n",
        "from sklearn.metrics.pairwise import cosine_similarity\n",
        "import itertools\n",
        "import numpy as np\n",
        "\n",
        "n_dpts = len(sentences) # Number of data points\n",
        "cosSimDistances = np.zeros((n_dpts, n_dpts)) # preallocate pairwise distance matrix\n",
        "\n",
        "# Label each sentence starting at 0, 1, 2, ...\n",
        "# Track distance between sentence i and sentence j in (i,j) entry of matrix\n",
        "# Matrix will be upper triangular\n",
        "for pair1_i, pair2_i in itertools.combinations(range(len(sentences)), 2):\n",
        "  cos_sim = cosine_similarity(embeddings[pair1_i].reshape(1, -1), embeddings[pair2_i].reshape(1, -1))[0][0]\n",
        "  dist = 2 * np.arccos(cos_sim) / np.pi\n",
        "  cosSimDistances[pair1_i][pair2_i] = dist\n",
        "# make distances matrix symmetric (fill in below diagonal) to align with scikit\n",
        "# pairwise metric matrix output that goes into Ripser.\n",
        "cosSimDistances= cosSimDistances + cosSimDistances.T - np.diag(cosSimDistances.diagonal())\n",
        "print(cosSimDistances)\n",
        "thresholds = np.sort(np.unique(cosSimDistances))\n",
        "print(thresholds)"
      ],
      "metadata": {
        "id": "_mJJSjn9kAmm",
        "outputId": "8a3076dc-17f3-44e2-d062-02806557da68",
        "colab": {
          "base_uri": "https://localhost:8080/",
          "height": 416
        }
      },
      "execution_count": 57,
      "outputs": [
        {
          "output_type": "display_data",
          "data": {
            "text/plain": [
              "<IPython.core.display.HTML object>"
            ],
            "text/html": [
              "\n",
              "  <style>\n",
              "    pre {\n",
              "        white-space: pre-wrap;\n",
              "    }\n",
              "  </style>\n",
              "  "
            ]
          },
          "metadata": {}
        },
        {
          "output_type": "stream",
          "name": "stdout",
          "text": [
            "[[0.         0.91309738 0.94451916 0.86106759 0.90778977 0.7836531\n",
            "  0.82931783 0.93491193 0.73227953]\n",
            " [0.91309738 0.         0.90920734 0.92479887 0.84852198 0.91309738\n",
            "  0.96555875 1.         0.92911811]\n",
            " [0.94451916 0.90920734 0.         0.85478287 0.95196742 0.96303881\n",
            "  0.9559289  1.         0.95471923]\n",
            " [0.86106759 0.92479887 0.85478287 0.         0.75528541 0.8767133\n",
            "  0.85263693 1.         0.92479887]\n",
            " [0.90778977 0.84852198 0.95196742 0.75528541 0.         0.8767133\n",
            "  0.88991424 1.         0.92479887]\n",
            " [0.7836531  0.91309738 0.96303881 0.8767133  0.8767133  0.\n",
            "  0.82931783 1.         0.82452034]\n",
            " [0.82931783 0.96555875 0.9559289  0.85263693 0.88991424 0.82931783\n",
            "  0.         1.         0.89626823]\n",
            " [0.93491193 1.         1.         1.         1.         1.\n",
            "  1.         0.         1.        ]\n",
            " [0.73227953 0.92911811 0.95471923 0.92479887 0.92479887 0.82452034\n",
            "  0.89626823 1.         0.        ]]\n",
            "[0.         0.73227953 0.75528541 0.7836531  0.82452034 0.82931783\n",
            " 0.84852198 0.85263693 0.85478287 0.86106759 0.8767133  0.88991424\n",
            " 0.89626823 0.90778977 0.90920734 0.91309738 0.92479887 0.92911811\n",
            " 0.93491193 0.94451916 0.95196742 0.95471923 0.9559289  0.96303881\n",
            " 0.96555875 1.        ]\n"
          ]
        }
      ]
    },
    {
      "cell_type": "code",
      "source": [
        "# set up Ripser for use (run this just once)\n",
        "!pip install Ripser\n",
        "\n",
        "from ripser import ripser\n",
        "from persim import plot_diagrams"
      ],
      "metadata": {
        "collapsed": true,
        "id": "RqDf00naAgYk",
        "outputId": "3354b91c-7471-471b-8160-d5c1a1d2d3b6",
        "colab": {
          "base_uri": "https://localhost:8080/",
          "height": 0
        }
      },
      "execution_count": 60,
      "outputs": [
        {
          "output_type": "display_data",
          "data": {
            "text/plain": [
              "<IPython.core.display.HTML object>"
            ],
            "text/html": [
              "\n",
              "  <style>\n",
              "    pre {\n",
              "        white-space: pre-wrap;\n",
              "    }\n",
              "  </style>\n",
              "  "
            ]
          },
          "metadata": {}
        },
        {
          "output_type": "stream",
          "name": "stdout",
          "text": [
            "Requirement already satisfied: Ripser in /usr/local/lib/python3.11/dist-packages (0.6.12)\n",
            "Requirement already satisfied: Cython in /usr/local/lib/python3.11/dist-packages (from Ripser) (3.0.12)\n",
            "Requirement already satisfied: numpy in /usr/local/lib/python3.11/dist-packages (from Ripser) (2.0.2)\n",
            "Requirement already satisfied: persim in /usr/local/lib/python3.11/dist-packages (from Ripser) (0.3.8)\n",
            "Requirement already satisfied: scipy in /usr/local/lib/python3.11/dist-packages (from Ripser) (1.14.1)\n",
            "Requirement already satisfied: scikit-learn in /usr/local/lib/python3.11/dist-packages (from Ripser) (1.6.1)\n",
            "Requirement already satisfied: deprecated in /usr/local/lib/python3.11/dist-packages (from persim->Ripser) (1.2.18)\n",
            "Requirement already satisfied: hopcroftkarp in /usr/local/lib/python3.11/dist-packages (from persim->Ripser) (1.2.5)\n",
            "Requirement already satisfied: joblib in /usr/local/lib/python3.11/dist-packages (from persim->Ripser) (1.4.2)\n",
            "Requirement already satisfied: matplotlib in /usr/local/lib/python3.11/dist-packages (from persim->Ripser) (3.10.0)\n",
            "Requirement already satisfied: threadpoolctl>=3.1.0 in /usr/local/lib/python3.11/dist-packages (from scikit-learn->Ripser) (3.6.0)\n",
            "Requirement already satisfied: wrapt<2,>=1.10 in /usr/local/lib/python3.11/dist-packages (from deprecated->persim->Ripser) (1.17.2)\n",
            "Requirement already satisfied: contourpy>=1.0.1 in /usr/local/lib/python3.11/dist-packages (from matplotlib->persim->Ripser) (1.3.1)\n",
            "Requirement already satisfied: cycler>=0.10 in /usr/local/lib/python3.11/dist-packages (from matplotlib->persim->Ripser) (0.12.1)\n",
            "Requirement already satisfied: fonttools>=4.22.0 in /usr/local/lib/python3.11/dist-packages (from matplotlib->persim->Ripser) (4.57.0)\n",
            "Requirement already satisfied: kiwisolver>=1.3.1 in /usr/local/lib/python3.11/dist-packages (from matplotlib->persim->Ripser) (1.4.8)\n",
            "Requirement already satisfied: packaging>=20.0 in /usr/local/lib/python3.11/dist-packages (from matplotlib->persim->Ripser) (24.2)\n",
            "Requirement already satisfied: pillow>=8 in /usr/local/lib/python3.11/dist-packages (from matplotlib->persim->Ripser) (11.1.0)\n",
            "Requirement already satisfied: pyparsing>=2.3.1 in /usr/local/lib/python3.11/dist-packages (from matplotlib->persim->Ripser) (3.2.3)\n",
            "Requirement already satisfied: python-dateutil>=2.7 in /usr/local/lib/python3.11/dist-packages (from matplotlib->persim->Ripser) (2.8.2)\n",
            "Requirement already satisfied: six>=1.5 in /usr/local/lib/python3.11/dist-packages (from python-dateutil>=2.7->matplotlib->persim->Ripser) (1.17.0)\n"
          ]
        }
      ]
    },
    {
      "cell_type": "code",
      "source": [
        "# Here's one way to use Ripser\n",
        "# examples and instructions are here:\n",
        "# https://ripser.scikit-tda.org/en/latest/notebooks/Basic%20Usage.html\n",
        "# https://docs.scikit-tda.org/en/latest/notebooks/scikit-tda%20Tutorial.html#1.1.3.-Input-option:-Distance-matrix\n",
        "\n",
        "\n",
        "# This version uses the distance matrix input, which is what we want\n",
        "diagrams = ripser(cosSimDistances, distance_matrix=True, maxdim=2)['dgms']\n",
        "plot_diagrams(diagrams, show=True)\n",
        "plot_diagrams(diagrams, lifetime=True)\n",
        "\n",
        "# This is an example that uses the data directly and uses the euclidean metric\n",
        "#data = np.random.random((100,3))\n",
        "#diagrams = ripser(data, maxdim=2)['dgms']\n",
        "#plot_diagrams(diagrams, show=True)\n",
        "#plot_diagrams(diagrams, lifetime=True)\n",
        "\n",
        "# it appears that diagrams is a vector of vectors where each element of each\n",
        "# vector is [birth epoch, death epoch] and the vectors are in increasing order\n",
        "# of homology (H0, H1, H2, etc.). For example, here is the H0 vector:\n",
        "print(diagrams[0])\n",
        "# Interpreting what each homology means is a different problem"
      ],
      "metadata": {
        "id": "TxjrMn4yRnVl",
        "outputId": "a8d662b1-5c1a-49f7-b23a-ef01fbee522c",
        "colab": {
          "base_uri": "https://localhost:8080/",
          "height": 1000
        }
      },
      "execution_count": 61,
      "outputs": [
        {
          "output_type": "display_data",
          "data": {
            "text/plain": [
              "<IPython.core.display.HTML object>"
            ],
            "text/html": [
              "\n",
              "  <style>\n",
              "    pre {\n",
              "        white-space: pre-wrap;\n",
              "    }\n",
              "  </style>\n",
              "  "
            ]
          },
          "metadata": {}
        },
        {
          "output_type": "display_data",
          "data": {
            "text/plain": [
              "<Figure size 640x480 with 1 Axes>"
            ],
            "image/png": "[encoded data removed]"
          },
          "metadata": {}
        },
        {
          "output_type": "stream",
          "name": "stdout",
          "text": [
            "[[0.         0.73227954]\n",
            " [0.         0.75528544]\n",
            " [0.         0.78365308]\n",
            " [0.         0.82931781]\n",
            " [0.         0.84852195]\n",
            " [0.         0.85263693]\n",
            " [0.         0.85478288]\n",
            " [0.         0.93491191]\n",
            " [0.                inf]]\n"
          ]
        },
        {
          "output_type": "display_data",
          "data": {
            "text/plain": [
              "<Figure size 640x480 with 1 Axes>"
            ],
            "image/png": "[encoded data removed]"
          },
          "metadata": {}
        }
      ]
    },
    {
      "cell_type": "code",
      "source": [
        "## Helper functions NOT based on publication\n",
        "\n",
        "# to find all the unique lists in a large list of lists\n",
        "def union_lists(lists):\n",
        "  # Convert each list to a tuple and package as a set\n",
        "  # (which automatically is unique)\n",
        "  unique_tuples = {tuple(a_list) for a_list in lists}\n",
        "  # Convert the tuples back to lists\n",
        "  unique_arrays = [list(tup) for tup in unique_tuples]\n",
        "  return unique_arrays\n",
        "\n",
        "# to find all the lists in list A that are not in list B\n",
        "def diff_lists(A, B):\n",
        "  # Convert each list in the master list to a tuple and package everything as\n",
        "  # a set. Then do set difference using minus operator\n",
        "  diff_tuples = list({tuple(a_list) for a_list in A} - {tuple(b_list) for b_list in B})\n",
        "  # Convert the tuples back to lists\n",
        "  diff_list = [list(tup) for tup in diff_tuples]\n",
        "  return diff_list\n",
        "\n",
        "# to find all the lists in list A that are in list B\n",
        "def intersect_lists(A, B):\n",
        "  # Convert each list in the master list to a tuple and package everything as\n",
        "  # a set. Then do set intersection using & operator\n",
        "  intersect_set = {tuple(a_list) for a_list in A} & {tuple(a_list) for a_list in B}\n",
        "  # Convert the tuples back to lists\n",
        "  intersection_list = [list(tup) for tup in intersect_set]\n",
        "  return intersection_list\n",
        "\n",
        "# allSimplices should have same length as the height of newBoundMat\n",
        "# L should be the # of items in newSimplices and the width of newBoundMat\n",
        "def findNewItemsBoundary(allSimplices, newSimplices, newBoundMat, L_all, L_new):\n",
        "  # iterate over each list item in newSimplices\n",
        "  for i in range(L_new):\n",
        "    # get length which defines the type of simplex\n",
        "    n = len(newSimplices[i])\n",
        "    # no need to find the boundary for a 0-simplex, so find boundary for n > 1\n",
        "    if n > 1: # ignore\n",
        "      for j in range(n):\n",
        "        # create a boundary simplex by ejection\n",
        "        tmp = newSimplices[i][:n-1-j] + newSimplices[i][n-j:]\n",
        "        # search allSimplices for a match and insert a 1 in the boundary matrix\n",
        "        newBoundMat[allSimplices.index(tmp), i] = 1\n",
        "  return newBoundMat\n",
        "\n",
        "# return column index of first column in the boundary matrix to conflict\n",
        "# with the specified column. Conflict means the lowest ones for the two\n",
        "# columns are in the same row.\n",
        "def findFirstConflictColumn(boundMat, bCol):\n",
        "  # find lowest one in the specified boundary matrix row\n",
        "  # if no one exists, set to -1\n",
        "  lowOneRow = max(np.nonzero(boundMat[:, bCol])[0], default=-1)\n",
        "  # set the match column to an error-checkable value\n",
        "  matchColumn = -1\n",
        "  # proceed to find matches\n",
        "  if lowOneRow >= 0: # only attempt to match if there is a lowest one\n",
        "    # for each column before the one being checked\n",
        "    for testCol in range(bCol):\n",
        "      # if it is a 1\n",
        "      if boundMat[lowOneRow, testCol]:\n",
        "        # and if it is the lowest 1 in that column\n",
        "        if max(np.nonzero(boundMat[:, testCol])[0], default=-1) == lowOneRow:\n",
        "          # then it is a conflict/match to be resolved\n",
        "          matchColumn = testCol\n",
        "          break\n",
        "  return [matchColumn, lowOneRow]"
      ],
      "metadata": {
        "id": "ZwV27MJbpkC-",
        "outputId": "acaa0aae-5cf5-420e-93d9-518a708a4ebf",
        "colab": {
          "base_uri": "https://localhost:8080/",
          "height": 17
        }
      },
      "execution_count": null,
      "outputs": [
        {
          "output_type": "display_data",
          "data": {
            "text/plain": [
              "<IPython.core.display.HTML object>"
            ],
            "text/html": [
              "\n",
              "  <style>\n",
              "    pre {\n",
              "        white-space: pre-wrap;\n",
              "    }\n",
              "  </style>\n",
              "  "
            ]
          },
          "metadata": {}
        },
        {
          "output_type": "display_data",
          "data": {
            "text/plain": [
              "<IPython.core.display.HTML object>"
            ],
            "text/html": [
              "\n",
              "  <style>\n",
              "    pre {\n",
              "        white-space: pre-wrap;\n",
              "    }\n",
              "  </style>\n",
              "  "
            ]
          },
          "metadata": {}
        }
      ]
    },
    {
      "cell_type": "code",
      "source": [
        "## Helper functions based on publication\n",
        "# The functions in this section are tailored implementations of algorithms\n",
        "# found in the following paper:\n",
        "\n",
        "# Zomorodian, A. (2010). Fast construction of the Vietoris-Rips complex.\n",
        "# Computers & Graphics, 34(3), 263–271.\n",
        "# https://doi.org/https://doi.org/10.1016/j.cag.2010.03.007\n",
        "\n",
        "# refer to: Article Section 4.2\n",
        "# inputs: both C0 and C1 from complex K, max dimension (3 = tetrahedra)\n",
        "def RipsComplex(K_C0, K_C1, k):\n",
        "  nu = [] # this will be expanded to hold all the simplices of all sizes\n",
        "  for i in range(len(K_C0)): # for each vertex in C0\n",
        "    # find the other, lower ordered vertices that have an edge connecting them\n",
        "    # to this vertex\n",
        "    N = LowerPairVertices(K_C0, K_C1, i)\n",
        "    # build all the cofaces\n",
        "    nu = AddCofaces(K_C0, K_C1, k, K_C0[i], N, nu)\n",
        "  return nu\n",
        "\n",
        "# refer to: Article Section 4.2\n",
        "# inputs: complex K (C0 and C1), max dimension (3 = tetrahedra), set\n",
        "# containing a vertex, set containing lower points paired with that vector,\n",
        "# and current built-up V-R complex\n",
        "def AddCofaces(K_C0, K_C1, k, tau, N, nu):\n",
        "  nu = union_lists(nu + [tau])\n",
        "  if len(tau) < k+1:  # if dim(tau) >= k (has k+1 or more points)\n",
        "    for i in range(len(N)):\n",
        "      sigma = N[i] + tau # element to be added to nu\n",
        "      M = LowerPairVertices(K_C0, K_C1, N[i][0])\n",
        "      M = intersect_lists(N, M) # intersection means triangle\n",
        "      nu = AddCofaces(K_C0, K_C1, k, sigma, M, nu)\n",
        "  return nu\n",
        "\n",
        "# refer to: Article Section 4.1\n",
        "# inputs: both C0 and C1 of complex K, index of the vertex for which to find\n",
        "# lower ordered points that are paired by an edge.\n",
        "def LowerPairVertices(K_C0, K_C1, i_u):\n",
        "  # get indices i_N of lower vertices paired with vertex u, which has index i_u\n",
        "  i_N = np.nonzero(K_C1[0:i_u,i_u])[0]\n",
        "  # get the set N of lower vertices v paired with vertex u\n",
        "  N = list(K_C0[i] for i in i_N)\n",
        "  return N"
      ],
      "metadata": {
        "id": "_1JSYehlN0RE",
        "outputId": "0a04753f-3243-42b2-fdf7-ffda25281c81",
        "colab": {
          "base_uri": "https://localhost:8080/",
          "height": 17
        }
      },
      "execution_count": null,
      "outputs": [
        {
          "output_type": "display_data",
          "data": {
            "text/plain": [
              "<IPython.core.display.HTML object>"
            ],
            "text/html": [
              "\n",
              "  <style>\n",
              "    pre {\n",
              "        white-space: pre-wrap;\n",
              "    }\n",
              "  </style>\n",
              "  "
            ]
          },
          "metadata": {}
        },
        {
          "output_type": "display_data",
          "data": {
            "text/plain": [
              "<IPython.core.display.HTML object>"
            ],
            "text/html": [
              "\n",
              "  <style>\n",
              "    pre {\n",
              "        white-space: pre-wrap;\n",
              "    }\n",
              "  </style>\n",
              "  "
            ]
          },
          "metadata": {}
        }
      ]
    },
    {
      "cell_type": "code",
      "source": [
        "## To wrap the array outputs while we error-check NU\n",
        "from IPython.display import HTML, display\n",
        "\n",
        "def set_css():\n",
        "  display(HTML('''\n",
        "  <style>\n",
        "    pre {\n",
        "        white-space: pre-wrap;\n",
        "    }\n",
        "  </style>\n",
        "  '''))\n",
        "get_ipython().events.register('pre_run_cell', set_css)"
      ],
      "metadata": {
        "id": "12Fn48Vw6858",
        "outputId": "310bb9b6-d30e-4e0e-acd5-b7eb0ca99496",
        "colab": {
          "base_uri": "https://localhost:8080/",
          "height": 17
        }
      },
      "execution_count": null,
      "outputs": [
        {
          "output_type": "display_data",
          "data": {
            "text/plain": [
              "<IPython.core.display.HTML object>"
            ],
            "text/html": [
              "\n",
              "  <style>\n",
              "    pre {\n",
              "        white-space: pre-wrap;\n",
              "    }\n",
              "  </style>\n",
              "  "
            ]
          },
          "metadata": {}
        },
        {
          "output_type": "display_data",
          "data": {
            "text/plain": [
              "<IPython.core.display.HTML object>"
            ],
            "text/html": [
              "\n",
              "  <style>\n",
              "    pre {\n",
              "        white-space: pre-wrap;\n",
              "    }\n",
              "  </style>\n",
              "  "
            ]
          },
          "metadata": {}
        }
      ]
    },
    {
      "cell_type": "code",
      "source": [
        "## Generate simplicial complexes\n",
        "\n",
        "from scipy.special import comb # for comb() (i.e. \"nChooseK\")\n",
        "\n",
        "# set max dimension to compute\n",
        "K_C0 = []\n",
        "for i in range(n_dpts):\n",
        "  K_C0.append([i])\n",
        "\n",
        "# set max dimension to compute\n",
        "dims = 3 # 0 - points, 1 - edges, 2 - triangles, 3 - tetrahedra, etc.\n",
        "# compute the total number of things that will be in the complex at the max\n",
        "# threshold, based on the selected # of dimensions\n",
        "totalSizeNu = n_dpts # the points will always be in the complex\n",
        "\n",
        "# compute the total # of simplices that will exist at the max threshold\n",
        "for i in range(dims):\n",
        "  # add # of ith dimension entries in the complex at max threshold\n",
        "  totalSizeNu = totalSizeNu + comb(n_dpts, i+2, exact=True)\n",
        "\n",
        "# preallocate big boundary matrix and an array to track the index of the\n",
        "# simplex in the full complex (and row in the boundary matrix)\n",
        "# corresponding to each column in the boundary matrix. Assume the boundary\n",
        "# matrix will have half as many columns as the number of simplices due to\n",
        "# removal of zero columns during each iteration\n",
        "boundaryMatrix = np.zeros((totalSizeNu, round(totalSizeNu/2)), dtype=bool)\n",
        "nuColIndexFromBoundColIndex = np.zeros(round(totalSizeNu/2), dtype=np.int32)\n",
        "w_bd = 0 # zero boundary matrix columns originally filled in\n",
        "# preallocate last iteration complex and reset to correct data type\n",
        "nu_prev = [[]] * totalSizeNu\n",
        "# track number of actual items set in nu_prev\n",
        "L_prev = 0\n",
        "# preallocate epoch and dimension trackers to -1 for error checking later\n",
        "# birthEpoch = -1*ones(1,totalSizeNu,'int16')\n",
        "birthEpoch = -1*np.ones(totalSizeNu, dtype=np.int16)\n",
        "deathEpoch = -1*np.ones(totalSizeNu, dtype=np.int16)\n",
        "dimension = -1*np.ones(totalSizeNu, dtype=np.int8)\n",
        "# preallocate full complex buildup and reset to correct data type\n",
        "epochOrderedComplex = [[]] * totalSizeNu\n",
        "\n",
        "# iterate through each threshold value, building up birthEpoch, deathEpoch,\n",
        "# and dimension arrays corresponding to the epochOrderedComplex and\n",
        "# allHomologies arrays. The reduced boundary matrix will also be an\n",
        "# output at each iteration\n",
        "for epoch in range(len(thresholds)):\n",
        "  print('===================================================================')\n",
        "  print('EPOCH =',epoch)\n",
        "  # first determine which edges are in the complex based on threshold\n",
        "  K_C1 = cosSimDistances <= thresholds[epoch] # logical array of \"in\" edges\n",
        "  print('K_C1 =')\n",
        "  print(K_C1)\n",
        "  # compute the complex as a huge array of dot-delimited strings\n",
        "  nu = RipsComplex(K_C0, K_C1, dims)\n",
        "  print('nu =', nu)\n",
        "  # find new complex items for this epoch\n",
        "  newInComplex = diff_lists(nu, nu_prev)\n",
        "  L_new = len(newInComplex)\n",
        "  L_tot = L_prev + L_new\n",
        "  # order newInComplex by simplex size so that each simplex can possibly be\n",
        "  # destroyed by something to its right in its own birth epoch if needed\n",
        "  newInComplex = sorted(newInComplex, key=len)\n",
        "  # update tracking of epoch number for new complex items\n",
        "  birthEpoch[L_prev:L_tot] = epoch\n",
        "  # add new items to the ordered list of items. These are used for\n",
        "  # columns and rows in the big boundary matrix and for naming in the\n",
        "  # persistence diagrams\n",
        "  epochOrderedComplex[L_prev:L_tot] = newInComplex\n",
        "\n",
        "  # preallocate temp array to convert to boundary matrix using newItems\n",
        "  temp = np.zeros((L_tot,L_new), dtype=bool)\n",
        "  # fill temp in as boundary matrix of newInComplex\n",
        "  temp = findNewItemsBoundary(epochOrderedComplex, newInComplex, temp, \\\n",
        "                              L_tot, L_new)\n",
        "  # for each element in newInComplex\n",
        "  for newCol in range(L_new):\n",
        "    # put its boundary (column in temp) into next open col of boundary matrix\n",
        "    boundaryMatrix[0:L_tot, w_bd] = temp[:,newCol]\n",
        "    # find the first column with the same lowest 1, if such exists\n",
        "    [matchCol, lowOneRow] = findFirstConflictColumn(boundaryMatrix,\\\n",
        "                                                    w_bd)\n",
        "    # if no such column exists,\n",
        "    while matchCol >= 0:\n",
        "      # XOR the conflicting/matching column to the check column\n",
        "      boundaryMatrix[0:L_tot, w_bd] = (boundaryMatrix[0:L_tot, w_bd] ^\\\n",
        "                                       boundaryMatrix[0:L_tot, matchCol])\n",
        "      # add the element name for the matching column as a linear comb.\n",
        "      # DO THIS LATER, NOT AS IMPORTANT. THIS USES nuColIndexFromBoundColIndex\n",
        "      # reset matchCol. Since the column has been modified, the match\n",
        "      # column will be different or nonexistent\n",
        "      [matchCol, lowOneRow] = findFirstConflictColumn(boundaryMatrix,\\\n",
        "                                                      w_bd)\n",
        "\n",
        "    # check if reduction has not zeroed out the column\n",
        "    if lowOneRow >= 0: # if the column isn't zero, lowOneRow is a pivot\n",
        "      # set death epoch for the killed row\n",
        "      deathEpoch[lowOneRow] = epoch\n",
        "      # add the index map to the index tracker\n",
        "      nuColIndexFromBoundColIndex[w_bd] = L_prev + newCol\n",
        "      # add one to the filled width of the boundary matrix\n",
        "      w_bd = w_bd+1\n",
        "\n",
        "  # latest complex is previous complex for next iteration\n",
        "  nu_prev = nu\n",
        "  L_prev = len(nu_prev)"
      ],
      "metadata": {
        "id": "jtIWsNHUAzap",
        "outputId": "d386a5e0-1b11-4c8c-940a-1f123a422b52",
        "colab": {
          "base_uri": "https://localhost:8080/",
          "height": 1000
        }
      },
      "execution_count": null,
      "outputs": [
        {
          "output_type": "display_data",
          "data": {
            "text/plain": [
              "<IPython.core.display.HTML object>"
            ],
            "text/html": [
              "\n",
              "  <style>\n",
              "    pre {\n",
              "        white-space: pre-wrap;\n",
              "    }\n",
              "  </style>\n",
              "  "
            ]
          },
          "metadata": {}
        },
        {
          "output_type": "display_data",
          "data": {
            "text/plain": [
              "<IPython.core.display.HTML object>"
            ],
            "text/html": [
              "\n",
              "  <style>\n",
              "    pre {\n",
              "        white-space: pre-wrap;\n",
              "    }\n",
              "  </style>\n",
              "  "
            ]
          },
          "metadata": {}
        },
        {
          "output_type": "display_data",
          "data": {
            "text/plain": [
              "<IPython.core.display.HTML object>"
            ],
            "text/html": [
              "\n",
              "  <style>\n",
              "    pre {\n",
              "        white-space: pre-wrap;\n",
              "    }\n",
              "  </style>\n",
              "  "
            ]
          },
          "metadata": {}
        },
        {
          "output_type": "stream",
          "name": "stdout",
          "text": [
            "===================================================================\n",
            "EPOCH = 0\n",
            "K_C1 =\n",
            "[[ True False False False False False False False False]\n",
            " [ True  True False False False False False False False]\n",
            " [ True  True  True False False False False False False]\n",
            " [ True  True  True  True False False False False False]\n",
            " [ True  True  True  True  True False False False False]\n",
            " [ True  True  True  True  True  True False False False]\n",
            " [ True  True  True  True  True  True  True False False]\n",
            " [ True  True  True  True  True  True  True  True False]\n",
            " [ True  True  True  True  True  True  True  True  True]]\n",
            "nu = [[6], [2], [5], [8], [4], [1], [7], [0], [3]]\n",
            "===================================================================\n",
            "EPOCH = 1\n",
            "K_C1 =\n",
            "[[ True False False False False False False False  True]\n",
            " [ True  True False False False False False False False]\n",
            " [ True  True  True False False False False False False]\n",
            " [ True  True  True  True False False False False False]\n",
            " [ True  True  True  True  True False False False False]\n",
            " [ True  True  True  True  True  True False False False]\n",
            " [ True  True  True  True  True  True  True False False]\n",
            " [ True  True  True  True  True  True  True  True False]\n",
            " [ True  True  True  True  True  True  True  True  True]]\n",
            "nu = [[6], [2], [5], [8], [4], [1], [7], [0], [0, 8], [3]]\n",
            "===================================================================\n",
            "EPOCH = 2\n",
            "K_C1 =\n",
            "[[ True False False False False False False False  True]\n",
            " [ True  True False False False False False False False]\n",
            " [ True  True  True False False False False False  True]\n",
            " [ True  True  True  True False False False False False]\n",
            " [ True  True  True  True  True False False False False]\n",
            " [ True  True  True  True  True  True False False False]\n",
            " [ True  True  True  True  True  True  True False False]\n",
            " [ True  True  True  True  True  True  True  True False]\n",
            " [ True  True  True  True  True  True  True  True  True]]\n",
            "nu = [[6], [2], [5], [8], [4], [1], [7], [0], [0, 8], [3], [2, 8]]\n",
            "===================================================================\n",
            "EPOCH = 3\n",
            "K_C1 =\n",
            "[[ True  True False False False False False False  True]\n",
            " [ True  True False False False False False False False]\n",
            " [ True  True  True False False False False False  True]\n",
            " [ True  True  True  True False False False False False]\n",
            " [ True  True  True  True  True False False False False]\n",
            " [ True  True  True  True  True  True False False False]\n",
            " [ True  True  True  True  True  True  True False False]\n",
            " [ True  True  True  True  True  True  True  True False]\n",
            " [ True  True  True  True  True  True  True  True  True]]\n",
            "nu = [[0, 1], [6], [2], [5], [8], [4], [1], [7], [0], [0, 8], [3], [2, 8]]\n",
            "===================================================================\n",
            "EPOCH = 4\n",
            "K_C1 =\n",
            "[[ True  True False False False False False False  True]\n",
            " [ True  True False False False False False False  True]\n",
            " [ True  True  True False False False False False  True]\n",
            " [ True  True  True  True False False False False False]\n",
            " [ True  True  True  True  True False False False False]\n",
            " [ True  True  True  True  True  True False False False]\n",
            " [ True  True  True  True  True  True  True False False]\n",
            " [ True  True  True  True  True  True  True  True False]\n",
            " [ True  True  True  True  True  True  True  True  True]]\n",
            "nu = [[0, 1], [6], [2], [5], [8], [1, 8], [4], [1], [7], [0], [0, 1, 8], [0, 8], [3], [2, 8]]\n",
            "===================================================================\n",
            "EPOCH = 5\n",
            "K_C1 =\n",
            "[[ True  True False False False False  True False  True]\n",
            " [ True  True False False False False False False  True]\n",
            " [ True  True  True False False False False False  True]\n",
            " [ True  True  True  True False False False False False]\n",
            " [ True  True  True  True  True False False False False]\n",
            " [ True  True  True  True  True  True False False False]\n",
            " [ True  True  True  True  True  True  True False False]\n",
            " [ True  True  True  True  True  True  True  True False]\n",
            " [ True  True  True  True  True  True  True  True  True]]\n",
            "nu = [[0, 1], [6], [2], [5], [8], [1, 8], [4], [0, 6], [1], [7], [0], [0, 1, 8], [0, 8], [3], [2, 8]]\n",
            "===================================================================\n",
            "EPOCH = 6\n",
            "K_C1 =\n",
            "[[ True  True False False False False  True False  True]\n",
            " [ True  True  True False False False False False  True]\n",
            " [ True  True  True False False False False False  True]\n",
            " [ True  True  True  True False False False False False]\n",
            " [ True  True  True  True  True False False False False]\n",
            " [ True  True  True  True  True  True False False False]\n",
            " [ True  True  True  True  True  True  True False False]\n",
            " [ True  True  True  True  True  True  True  True False]\n",
            " [ True  True  True  True  True  True  True  True  True]]\n",
            "nu = [[0, 1], [6], [1, 2], [2], [5], [1, 2, 8], [8], [1, 8], [4], [0, 6], [1], [7], [0], [0, 1, 8], [0, 8], [3], [2, 8]]\n",
            "===================================================================\n",
            "EPOCH = 7\n",
            "K_C1 =\n",
            "[[ True  True  True False False False  True False  True]\n",
            " [ True  True  True False False False False False  True]\n",
            " [ True  True  True False False False False False  True]\n",
            " [ True  True  True  True False False False False False]\n",
            " [ True  True  True  True  True False False False False]\n",
            " [ True  True  True  True  True  True False False False]\n",
            " [ True  True  True  True  True  True  True False False]\n",
            " [ True  True  True  True  True  True  True  True False]\n",
            " [ True  True  True  True  True  True  True  True  True]]\n",
            "nu = [[0, 1, 2, 8], [2], [5], [8], [0, 2], [1, 2, 8], [0, 8], [2, 8], [4], [1], [7], [0, 1, 2], [0, 1, 8], [0, 1], [1, 2], [1, 8], [0], [3], [6], [0, 6], [0, 2, 8]]\n",
            "===================================================================\n",
            "EPOCH = 8\n",
            "K_C1 =\n",
            "[[ True  True  True False False  True  True False  True]\n",
            " [ True  True  True False False False False False  True]\n",
            " [ True  True  True False False False False False  True]\n",
            " [ True  True  True  True False False False False False]\n",
            " [ True  True  True  True  True False False False False]\n",
            " [ True  True  True  True  True  True False False False]\n",
            " [ True  True  True  True  True  True  True False False]\n",
            " [ True  True  True  True  True  True  True  True False]\n",
            " [ True  True  True  True  True  True  True  True  True]]\n",
            "nu = [[0, 1, 2, 8], [2], [5], [8], [0, 2], [0, 5], [1, 2, 8], [0, 8], [2, 8], [4], [1], [7], [0, 1, 2], [0, 1, 8], [0, 1], [1, 2], [1, 8], [0], [3], [6], [0, 6], [0, 2, 8]]\n",
            "===================================================================\n",
            "EPOCH = 9\n",
            "K_C1 =\n",
            "[[ True  True  True False False  True  True False  True]\n",
            " [ True  True  True False False False False False  True]\n",
            " [ True  True  True False False False False False  True]\n",
            " [ True  True  True  True False False False False  True]\n",
            " [ True  True  True  True  True False False False False]\n",
            " [ True  True  True  True  True  True False False False]\n",
            " [ True  True  True  True  True  True  True False False]\n",
            " [ True  True  True  True  True  True  True  True False]\n",
            " [ True  True  True  True  True  True  True  True  True]]\n",
            "nu = [[0, 1, 2, 8], [2], [5], [8], [0, 2], [0, 5], [1, 2, 8], [0, 8], [2, 8], [4], [1], [7], [0, 1, 2], [0, 1, 8], [0, 1], [1, 2], [1, 8], [0], [3], [6], [3, 8], [0, 6], [0, 2, 8]]\n",
            "===================================================================\n",
            "EPOCH = 10\n",
            "K_C1 =\n",
            "[[ True  True  True False False  True  True False  True]\n",
            " [ True  True  True False False False False False  True]\n",
            " [ True  True  True False False False False False  True]\n",
            " [ True  True  True  True  True False False False  True]\n",
            " [ True  True  True  True  True False False False False]\n",
            " [ True  True  True  True  True  True False False False]\n",
            " [ True  True  True  True  True  True  True False False]\n",
            " [ True  True  True  True  True  True  True  True False]\n",
            " [ True  True  True  True  True  True  True  True  True]]\n",
            "nu = [[0, 1, 2, 8], [2], [3, 4], [5], [8], [0, 2], [0, 5], [1, 2, 8], [0, 8], [2, 8], [4], [1], [7], [0, 1, 2], [0, 1, 8], [0, 1], [1, 2], [1, 8], [0], [3], [6], [3, 8], [0, 6], [0, 2, 8]]\n",
            "===================================================================\n",
            "EPOCH = 11\n",
            "K_C1 =\n",
            "[[ True  True  True False False  True  True False  True]\n",
            " [ True  True  True False False False False False  True]\n",
            " [ True  True  True False False False False False  True]\n",
            " [ True  True  True  True  True False  True False  True]\n",
            " [ True  True  True  True  True False False False False]\n",
            " [ True  True  True  True  True  True False False False]\n",
            " [ True  True  True  True  True  True  True False False]\n",
            " [ True  True  True  True  True  True  True  True False]\n",
            " [ True  True  True  True  True  True  True  True  True]]\n",
            "nu = [[0, 1, 2, 8], [2], [3, 4], [5], [8], [0, 2], [0, 5], [1, 2, 8], [0, 8], [2, 8], [4], [1], [7], [3, 6], [0, 1, 2], [0, 1, 8], [0, 1], [1, 2], [1, 8], [0], [3], [6], [3, 8], [0, 6], [0, 2, 8]]\n",
            "===================================================================\n",
            "EPOCH = 12\n",
            "K_C1 =\n",
            "[[ True  True  True False False  True  True False  True]\n",
            " [ True  True  True False False False False False  True]\n",
            " [ True  True  True  True False False False False  True]\n",
            " [ True  True  True  True  True False  True False  True]\n",
            " [ True  True  True  True  True False False False False]\n",
            " [ True  True  True  True  True  True False False False]\n",
            " [ True  True  True  True  True  True  True False False]\n",
            " [ True  True  True  True  True  True  True  True False]\n",
            " [ True  True  True  True  True  True  True  True  True]]\n",
            "nu = [[0, 1, 2, 8], [2], [3, 4], [5], [8], [0, 2], [0, 5], [1, 2, 8], [0, 8], [2, 8], [4], [1], [7], [3, 6], [0, 1, 2], [0, 1, 8], [0, 1], [1, 2], [1, 8], [2, 3, 8], [0], [3], [6], [3, 8], [0, 6], [2, 3], [0, 2, 8]]\n",
            "===================================================================\n",
            "EPOCH = 13\n",
            "K_C1 =\n",
            "[[ True  True  True  True False  True  True False  True]\n",
            " [ True  True  True False False False False False  True]\n",
            " [ True  True  True  True False False False False  True]\n",
            " [ True  True  True  True  True False  True False  True]\n",
            " [ True  True  True  True  True False False False False]\n",
            " [ True  True  True  True  True  True False False False]\n",
            " [ True  True  True  True  True  True  True False False]\n",
            " [ True  True  True  True  True  True  True  True False]\n",
            " [ True  True  True  True  True  True  True  True  True]]\n",
            "nu = [[0, 1, 2, 8], [2], [3, 4], [5], [0, 2, 3, 8], [8], [0, 2], [0, 3, 6], [0, 5], [1, 2, 8], [0, 8], [2, 8], [4], [1], [7], [3, 6], [0, 1, 2], [0, 1, 8], [0, 3, 8], [0, 1], [1, 2], [1, 8], [0, 2, 3], [2, 3, 8], [0], [3], [6], [3, 8], [0, 3], [0, 6], [2, 3], [0, 2, 8]]\n",
            "===================================================================\n",
            "EPOCH = 14\n",
            "K_C1 =\n",
            "[[ True  True  True  True False  True  True False  True]\n",
            " [ True  True  True False False False False False  True]\n",
            " [ True  True  True  True False False False False  True]\n",
            " [ True  True  True  True  True False  True False  True]\n",
            " [ True  True  True  True  True False False False False]\n",
            " [ True  True  True  True  True  True  True False False]\n",
            " [ True  True  True  True  True  True  True False False]\n",
            " [ True  True  True  True  True  True  True  True False]\n",
            " [ True  True  True  True  True  True  True  True  True]]\n",
            "nu = [[0, 1, 2, 8], [2], [3, 4], [5], [0, 2, 3, 8], [8], [0, 2], [0, 3, 6], [0, 5], [1, 2, 8], [0, 8], [2, 8], [0, 5, 6], [4], [1], [7], [5, 6], [3, 6], [0, 1, 2], [0, 1, 8], [0, 3, 8], [0, 1], [1, 2], [1, 8], [0, 2, 3], [2, 3, 8], [0], [3], [6], [3, 8], [0, 3], [0, 6], [2, 3], [0, 2, 8]]\n",
            "===================================================================\n",
            "EPOCH = 15\n",
            "K_C1 =\n",
            "[[ True  True  True  True False  True  True False  True]\n",
            " [ True  True  True False False False False False  True]\n",
            " [ True  True  True  True False False False False  True]\n",
            " [ True  True  True  True  True False  True False  True]\n",
            " [ True  True  True  True  True False False False False]\n",
            " [ True  True  True  True  True  True  True False False]\n",
            " [ True  True  True  True  True  True  True False  True]\n",
            " [ True  True  True  True  True  True  True  True False]\n",
            " [ True  True  True  True  True  True  True  True  True]]\n",
            "nu = [[0, 1, 2, 8], [2], [3, 4], [0, 6, 8], [5], [0, 2, 3, 8], [8], [0, 2], [0, 3, 6], [0, 5], [1, 2, 8], [0, 8], [2, 8], [0, 5, 6], [6, 8], [4], [1], [7], [0, 3, 6, 8], [5, 6], [3, 6], [0, 1, 2], [0, 1, 8], [0, 3, 8], [0, 1], [1, 2], [1, 8], [0, 2, 3], [2, 3, 8], [0], [3], [6], [3, 8], [0, 3], [0, 6], [2, 3], [3, 6, 8], [0, 2, 8]]\n",
            "===================================================================\n",
            "EPOCH = 16\n",
            "K_C1 =\n",
            "[[ True  True  True  True False  True  True False  True]\n",
            " [ True  True  True False False False False False  True]\n",
            " [ True  True  True  True False False False False  True]\n",
            " [ True  True  True  True  True False  True False  True]\n",
            " [ True  True  True  True  True False False False False]\n",
            " [ True  True  True  True  True  True  True False  True]\n",
            " [ True  True  True  True  True  True  True False  True]\n",
            " [ True  True  True  True  True  True  True  True False]\n",
            " [ True  True  True  True  True  True  True  True  True]]\n",
            "nu = [[0, 1, 2, 8], [2], [3, 4], [0, 6, 8], [5], [0, 2, 3, 8], [5, 6, 8], [0, 5, 6, 8], [8], [0, 2], [0, 3, 6], [0, 5], [1, 2, 8], [0, 8], [2, 8], [0, 5, 6], [6, 8], [4], [1], [7], [0, 3, 6, 8], [5, 6], [3, 6], [0, 1, 2], [0, 1, 8], [0, 3, 8], [0, 1], [1, 2], [1, 8], [0, 2, 3], [2, 3, 8], [0, 5, 8], [0], [3], [6], [3, 8], [5, 8], [0, 3], [0, 6], [2, 3], [3, 6, 8], [0, 2, 8]]\n",
            "===================================================================\n",
            "EPOCH = 17\n",
            "K_C1 =\n",
            "[[ True  True  True  True False  True  True False  True]\n",
            " [ True  True  True False False  True False False  True]\n",
            " [ True  True  True  True False False False False  True]\n",
            " [ True  True  True  True  True False  True False  True]\n",
            " [ True  True  True  True  True False False False False]\n",
            " [ True  True  True  True  True  True  True False  True]\n",
            " [ True  True  True  True  True  True  True False  True]\n",
            " [ True  True  True  True  True  True  True  True False]\n",
            " [ True  True  True  True  True  True  True  True  True]]\n",
            "nu = [[0, 1, 2, 8], [2], [3, 4], [0, 6, 8], [5], [0, 2, 3, 8], [5, 6, 8], [0, 5, 6, 8], [8], [0, 2], [0, 3, 6], [0, 5], [1, 2, 8], [0, 8], [2, 8], [0, 5, 6], [6, 8], [4], [1], [7], [0, 3, 6, 8], [0, 1, 5], [5, 6], [3, 6], [0, 1, 2], [0, 1, 8], [0, 3, 8], [0, 1], [1, 2], [1, 5], [1, 8], [0, 2, 3], [2, 3, 8], [0, 5, 8], [0], [1, 5, 8], [3], [0, 1, 5, 8], [6], [3, 8], [5, 8], [0, 3], [0, 6], [2, 3], [3, 6, 8], [0, 2, 8]]\n",
            "===================================================================\n",
            "EPOCH = 18\n",
            "K_C1 =\n",
            "[[ True  True  True  True False  True  True False  True]\n",
            " [ True  True  True False False  True False False  True]\n",
            " [ True  True  True  True False False False False  True]\n",
            " [ True  True  True  True  True False  True False  True]\n",
            " [ True  True  True  True  True False  True False False]\n",
            " [ True  True  True  True  True  True  True False  True]\n",
            " [ True  True  True  True  True  True  True False  True]\n",
            " [ True  True  True  True  True  True  True  True False]\n",
            " [ True  True  True  True  True  True  True  True  True]]\n",
            "nu = [[0, 1, 2, 8], [2], [3, 4], [0, 6, 8], [5], [0, 2, 3, 8], [5, 6, 8], [0, 5, 6, 8], [4, 6], [8], [0, 2], [0, 3, 6], [0, 5], [1, 2, 8], [0, 8], [2, 8], [0, 5, 6], [6, 8], [4], [1], [7], [0, 3, 6, 8], [0, 1, 5], [5, 6], [3, 6], [0, 1, 2], [0, 1, 8], [0, 3, 8], [0, 1], [1, 2], [3, 4, 6], [1, 5], [1, 8], [0, 2, 3], [2, 3, 8], [0, 5, 8], [0], [1, 5, 8], [3], [0, 1, 5, 8], [6], [3, 8], [5, 8], [0, 3], [0, 6], [2, 3], [3, 6, 8], [0, 2, 8]]\n",
            "===================================================================\n",
            "EPOCH = 19\n",
            "K_C1 =\n",
            "[[ True  True  True  True False  True  True False  True]\n",
            " [ True  True  True False False  True False False  True]\n",
            " [ True  True  True  True False False  True False  True]\n",
            " [ True  True  True  True  True False  True False  True]\n",
            " [ True  True  True  True  True False  True False False]\n",
            " [ True  True  True  True  True  True  True False  True]\n",
            " [ True  True  True  True  True  True  True False  True]\n",
            " [ True  True  True  True  True  True  True  True False]\n",
            " [ True  True  True  True  True  True  True  True  True]]\n",
            "nu = [[0, 1, 2, 8], [2], [3, 4], [0, 6, 8], [5], [0, 2, 3, 8], [5, 6, 8], [0, 5, 6, 8], [4, 6], [8], [0, 2], [0, 3, 6], [0, 5], [1, 2, 8], [2, 6, 8], [0, 8], [2, 8], [2, 3, 6], [0, 5, 6], [6, 8], [4], [2, 3, 6, 8], [1], [7], [0, 3, 6, 8], [0, 1, 5], [5, 6], [3, 6], [0, 1, 2], [0, 1, 8], [0, 3, 8], [0, 1], [1, 2], [3, 4, 6], [1, 5], [1, 8], [0, 2, 3], [0, 2, 6, 8], [0, 2, 6], [2, 3, 8], [0, 5, 8], [0], [1, 5, 8], [3], [0, 2, 3, 6], [0, 1, 5, 8], [6], [3, 8], [5, 8], [0, 3], [0, 6], [2, 3], [2, 6], [3, 6, 8], [0, 2, 8]]\n",
            "===================================================================\n",
            "EPOCH = 20\n",
            "K_C1 =\n",
            "[[ True  True  True  True  True  True  True False  True]\n",
            " [ True  True  True False False  True False False  True]\n",
            " [ True  True  True  True False False  True False  True]\n",
            " [ True  True  True  True  True False  True False  True]\n",
            " [ True  True  True  True  True False  True False False]\n",
            " [ True  True  True  True  True  True  True False  True]\n",
            " [ True  True  True  True  True  True  True False  True]\n",
            " [ True  True  True  True  True  True  True  True False]\n",
            " [ True  True  True  True  True  True  True  True  True]]\n",
            "nu = [[0, 1, 2, 8], [2], [3, 4], [0, 6, 8], [5], [0, 2, 3, 8], [5, 6, 8], [0, 5, 6, 8], [4, 6], [8], [0, 2], [0, 3, 6], [0, 5], [1, 2, 8], [2, 6, 8], [0, 8], [2, 8], [2, 3, 6], [0, 5, 6], [6, 8], [4], [2, 3, 6, 8], [1], [7], [0, 3, 6, 8], [0, 1, 5], [5, 6], [3, 6], [0, 1, 2], [0, 1, 8], [0, 3, 8], [0, 1], [1, 2], [0, 4], [3, 4, 6], [1, 5], [1, 8], [0, 2, 3], [0, 2, 6, 8], [0, 2, 6], [2, 3, 8], [0, 5, 8], [0, 4, 6], [0], [1, 5, 8], [3], [0, 2, 3, 6], [0, 1, 5, 8], [6], [3, 8], [5, 8], [0, 3, 4], [0, 3, 4, 6], [0, 3], [0, 6], [2, 3], [2, 6], [3, 6, 8], [0, 2, 8]]\n",
            "===================================================================\n",
            "EPOCH = 21\n",
            "K_C1 =\n",
            "[[ True  True  True  True  True  True  True False  True]\n",
            " [ True  True  True False False  True  True False  True]\n",
            " [ True  True  True  True False False  True False  True]\n",
            " [ True  True  True  True  True False  True False  True]\n",
            " [ True  True  True  True  True False  True False False]\n",
            " [ True  True  True  True  True  True  True False  True]\n",
            " [ True  True  True  True  True  True  True False  True]\n",
            " [ True  True  True  True  True  True  True  True False]\n",
            " [ True  True  True  True  True  True  True  True  True]]\n",
            "nu = [[0, 1, 2, 8], [2], [3, 4], [0, 6, 8], [5], [0, 2, 3, 8], [5, 6, 8], [0, 5, 6, 8], [4, 6], [8], [0, 1, 6], [0, 2], [0, 3, 6], [0, 5], [1, 6], [2, 6, 8], [1, 2, 8], [0, 8], [0, 1, 6, 8], [2, 8], [2, 3, 6], [0, 5, 6], [6, 8], [4], [2, 3, 6, 8], [1, 5, 6], [1], [0, 1, 5, 6], [7], [0, 3, 6, 8], [0, 1, 5], [5, 6], [3, 6], [0, 1, 2], [0, 1, 8], [1, 5, 6, 8], [1, 6, 8], [0, 3, 8], [0, 1], [1, 2], [0, 4], [3, 4, 6], [1, 5], [1, 8], [0, 2, 3], [0, 2, 6, 8], [0, 2, 6], [2, 3, 8], [0, 5, 8], [0, 4, 6], [0, 1, 2, 6], [0], [1, 2, 6, 8], [1, 5, 8], [3], [0, 2, 3, 6], [0, 1, 5, 8], [6], [3, 8], [5, 8], [0, 3, 4], [1, 2, 6], [0, 3, 4, 6], [0, 3], [0, 6], [2, 3], [2, 6], [3, 6, 8], [0, 2, 8]]\n",
            "===================================================================\n",
            "EPOCH = 22\n",
            "K_C1 =\n",
            "[[ True  True  True  True  True  True  True False  True]\n",
            " [ True  True  True False False  True  True False  True]\n",
            " [ True  True  True  True False False  True False  True]\n",
            " [ True  True  True  True  True False  True False  True]\n",
            " [ True  True  True  True  True False  True False  True]\n",
            " [ True  True  True  True  True  True  True False  True]\n",
            " [ True  True  True  True  True  True  True False  True]\n",
            " [ True  True  True  True  True  True  True  True False]\n",
            " [ True  True  True  True  True  True  True  True  True]]\n",
            "nu = [[0, 4, 8], [0, 1, 2, 8], [2], [3, 4], [0, 6, 8], [5], [0, 2, 3, 8], [5, 6, 8], [0, 5, 6, 8], [4, 6], [8], [0, 1, 6], [0, 2], [0, 3, 6], [0, 5], [1, 6], [1, 2, 8], [2, 6, 8], [0, 3, 4, 8], [0, 8], [0, 1, 6, 8], [2, 8], [3, 4, 6, 8], [2, 3, 6], [0, 5, 6], [6, 8], [4], [2, 3, 6, 8], [1, 5, 6], [1], [0, 1, 5, 6], [7], [0, 3, 6, 8], [0, 1, 5], [5, 6], [3, 6], [0, 1, 2], [0, 1, 8], [4, 8], [1, 5, 6, 8], [1, 6, 8], [0, 3, 8], [0, 1], [1, 2], [0, 4], [3, 4, 6], [1, 5], [1, 8], [0, 2, 3], [0, 2, 6, 8], [0, 2, 6], [2, 3, 8], [0, 5, 8], [0, 4, 6], [0, 1, 2, 6], [0], [1, 2, 6, 8], [1, 5, 8], [3], [0, 2, 3, 6], [0, 1, 5, 8], [6], [3, 8], [5, 8], [0, 3, 4], [1, 2, 6], [0, 3, 4, 6], [0, 3], [4, 6, 8], [0, 6], [2, 3], [3, 4, 8], [2, 6], [3, 6, 8], [0, 2, 8], [0, 4, 6, 8]]\n",
            "===================================================================\n",
            "EPOCH = 23\n",
            "K_C1 =\n",
            "[[ True  True  True  True  True  True  True False  True]\n",
            " [ True  True  True False False  True  True False  True]\n",
            " [ True  True  True  True False  True  True False  True]\n",
            " [ True  True  True  True  True False  True False  True]\n",
            " [ True  True  True  True  True False  True False  True]\n",
            " [ True  True  True  True  True  True  True False  True]\n",
            " [ True  True  True  True  True  True  True False  True]\n",
            " [ True  True  True  True  True  True  True  True False]\n",
            " [ True  True  True  True  True  True  True  True  True]]\n",
            "nu = [[2, 5, 6, 8], [0, 1, 2, 8], [5, 6, 8], [0, 1, 6], [0, 5], [0, 1, 5, 6], [1, 6, 8], [3, 6], [0, 1, 8], [1, 8], [0, 2, 6], [1, 2, 6, 8], [0, 1, 5, 8], [6], [3, 8], [0, 2, 8], [0, 4, 6, 8], [0, 1, 2, 5], [0, 6, 8], [0, 5, 6, 8], [8], [0, 2], [1, 2, 8], [0, 3, 4, 8], [2, 3, 6], [2, 3, 6, 8], [1, 5, 6], [1], [0, 3, 6, 8], [0, 1, 5], [2, 5, 6], [1, 5], [0, 2, 3], [2, 3, 8], [0, 4, 6], [1, 5, 8], [3], [0, 2, 3, 6], [2, 5, 8], [4, 6, 8], [0, 2, 5, 6], [2, 6], [0, 2, 5], [0, 4, 8], [5], [0, 2, 3, 8], [4, 6], [1, 2, 5], [0, 2, 5, 8], [2, 8], [6, 8], [7], [5, 6], [4, 8], [1, 5, 6, 8], [1, 2], [0, 4], [3, 4, 6], [0], [1, 2, 5, 6], [0, 3, 4], [0, 6], [2, 3], [3, 4, 8], [2], [1, 2, 5, 8], [3, 4], [0, 3, 6], [1, 6], [0, 8], [2, 5], [2, 6, 8], [0, 1, 6, 8], [3, 4, 6, 8], [0, 5, 6], [4], [0, 1, 2], [0, 3, 8], [0, 1], [0, 2, 6, 8], [0, 5, 8], [0, 1, 2, 6], [5, 8], [1, 2, 6], [0, 3, 4, 6], [0, 3], [3, 6, 8]]\n",
            "===================================================================\n",
            "EPOCH = 24\n",
            "K_C1 =\n",
            "[[ True  True  True  True  True  True  True False  True]\n",
            " [ True  True  True False False  True  True False  True]\n",
            " [ True  True  True  True False  True  True False  True]\n",
            " [ True  True  True  True  True False  True False  True]\n",
            " [ True  True  True  True  True  True  True False  True]\n",
            " [ True  True  True  True  True  True  True False  True]\n",
            " [ True  True  True  True  True  True  True False  True]\n",
            " [ True  True  True  True  True  True  True  True False]\n",
            " [ True  True  True  True  True  True  True  True  True]]\n",
            "nu = [[2, 5, 6, 8], [0, 1, 2, 8], [5, 6, 8], [0, 1, 6], [0, 5], [0, 1, 5, 6], [1, 6, 8], [3, 6], [0, 1, 8], [1, 8], [0, 2, 6], [1, 2, 6, 8], [0, 1, 5, 8], [6], [3, 8], [0, 2, 8], [0, 4, 6, 8], [0, 1, 2, 5], [0, 6, 8], [0, 5, 6, 8], [8], [0, 2], [4, 5, 6], [1, 2, 8], [0, 3, 4, 8], [2, 3, 6], [2, 3, 6, 8], [1, 5, 6], [1], [0, 3, 6, 8], [0, 1, 5], [2, 5, 6], [4, 5, 8], [1, 5], [0, 2, 3], [2, 3, 8], [0, 4, 6], [1, 5, 8], [3], [0, 2, 3, 6], [2, 5, 8], [4, 6, 8], [0, 2, 5, 6], [2, 6], [0, 2, 5], [0, 4, 8], [5], [0, 2, 3, 8], [4, 6], [0, 4, 5, 6], [1, 2, 5], [0, 2, 5, 8], [2, 8], [6, 8], [7], [5, 6], [4, 8], [1, 5, 6, 8], [0, 4, 5, 8], [1, 2], [0, 4], [3, 4, 6], [4, 5, 6, 8], [0], [1, 2, 5, 6], [0, 3, 4], [0, 6], [2, 3], [3, 4, 8], [0, 4, 5], [2], [1, 2, 5, 8], [3, 4], [0, 3, 6], [1, 6], [0, 8], [2, 5], [2, 6, 8], [0, 1, 6, 8], [3, 4, 6, 8], [0, 5, 6], [4], [4, 5], [0, 1, 2], [0, 3, 8], [0, 1], [0, 2, 6, 8], [0, 5, 8], [0, 1, 2, 6], [5, 8], [1, 2, 6], [0, 3, 4, 6], [0, 3], [3, 6, 8]]\n",
            "===================================================================\n",
            "EPOCH = 25\n",
            "K_C1 =\n",
            "[[ True  True  True  True  True  True  True False  True]\n",
            " [ True  True  True False False  True  True False  True]\n",
            " [ True  True  True  True False  True  True False  True]\n",
            " [ True  True  True  True  True  True  True False  True]\n",
            " [ True  True  True  True  True  True  True False  True]\n",
            " [ True  True  True  True  True  True  True False  True]\n",
            " [ True  True  True  True  True  True  True False  True]\n",
            " [ True  True  True  True  True  True  True  True False]\n",
            " [ True  True  True  True  True  True  True  True  True]]\n",
            "nu = [[2, 5, 6, 8], [0, 1, 2, 8], [5, 6, 8], [0, 1, 6], [0, 5], [3, 4, 5, 6], [0, 1, 5, 6], [1, 6, 8], [3, 6], [0, 1, 8], [0, 3, 5], [1, 8], [0, 2, 6], [1, 2, 6, 8], [0, 1, 5, 8], [6], [3, 8], [3, 4, 5], [0, 2, 8], [0, 4, 6, 8], [0, 1, 2, 5], [0, 6, 8], [3, 5, 6], [0, 5, 6, 8], [8], [0, 2], [4, 5, 6], [1, 2, 8], [0, 3, 4, 8], [2, 3, 6], [2, 3, 6, 8], [1, 5, 6], [1], [0, 3, 6, 8], [3, 5, 8], [0, 1, 5], [2, 5, 6], [4, 5, 8], [1, 5], [0, 2, 3], [2, 3, 8], [3, 4, 5, 8], [0, 4, 6], [1, 5, 8], [3], [0, 2, 3, 6], [3, 5], [2, 5, 8], [4, 6, 8], [0, 2, 5, 6], [2, 6], [0, 2, 5], [0, 4, 8], [5], [0, 2, 3, 8], [4, 6], [0, 4, 5, 6], [1, 2, 5], [0, 3, 4, 5], [0, 2, 5, 8], [2, 8], [6, 8], [7], [5, 6], [4, 8], [1, 5, 6, 8], [0, 4, 5, 8], [1, 2], [0, 4], [3, 4, 6], [0, 3, 5, 6], [2, 3, 5], [4, 5, 6, 8], [0], [1, 2, 5, 6], [0, 3, 4], [0, 6], [2, 3], [3, 4, 8], [0, 3, 5, 8], [3, 5, 6, 8], [0, 4, 5], [2], [0, 2, 3, 5], [3, 4], [1, 2, 5, 8], [0, 3, 6], [1, 6], [0, 8], [2, 5], [2, 6, 8], [0, 1, 6, 8], [3, 4, 6, 8], [0, 5, 6], [4], [4, 5], [0, 1, 2], [0, 3, 8], [0, 1], [0, 2, 6, 8], [2, 3, 5, 6], [0, 5, 8], [0, 1, 2, 6], [5, 8], [1, 2, 6], [0, 3, 4, 6], [0, 3], [3, 6, 8], [2, 3, 5, 8]]\n",
            "===================================================================\n",
            "EPOCH = 26\n",
            "K_C1 =\n",
            "[[ True  True  True  True  True  True  True False  True]\n",
            " [ True  True  True  True False  True  True False  True]\n",
            " [ True  True  True  True False  True  True False  True]\n",
            " [ True  True  True  True  True  True  True False  True]\n",
            " [ True  True  True  True  True  True  True False  True]\n",
            " [ True  True  True  True  True  True  True False  True]\n",
            " [ True  True  True  True  True  True  True False  True]\n",
            " [ True  True  True  True  True  True  True  True False]\n",
            " [ True  True  True  True  True  True  True  True  True]]\n",
            "nu = [[2, 5, 6, 8], [0, 1, 2, 8], [5, 6, 8], [0, 1, 6], [0, 5], [3, 4, 5, 6], [0, 1, 5, 6], [1, 6, 8], [3, 6], [0, 1, 8], [0, 3, 5], [1, 8], [0, 2, 6], [0, 1, 2, 3], [1, 2, 6, 8], [0, 1, 5, 8], [1, 3, 5, 6], [6], [3, 8], [3, 4, 5], [0, 2, 8], [0, 4, 6, 8], [0, 1, 2, 5], [0, 6, 8], [3, 5, 6], [0, 1, 3], [8], [1, 3, 5, 8], [0, 5, 6, 8], [0, 2], [4, 5, 6], [1, 3, 6], [1, 2, 8], [0, 3, 4, 8], [1, 3], [2, 3, 6], [0, 1, 3, 6], [2, 3, 6, 8], [1, 5, 6], [1], [0, 3, 6, 8], [3, 5, 8], [0, 1, 5], [1, 2, 3, 6], [2, 5, 6], [4, 5, 8], [1, 3, 8], [1, 5], [0, 2, 3], [2, 3, 8], [3, 4, 5, 8], [0, 4, 6], [0, 1, 3, 8], [1, 5, 8], [3], [0, 2, 3, 6], [3, 5], [2, 5, 8], [1, 2, 3], [4, 6, 8], [0, 2, 5, 6], [2, 6], [0, 2, 5], [0, 4, 8], [5], [0, 2, 3, 8], [4, 6], [0, 4, 5, 6], [1, 2, 5], [0, 3, 4, 5], [0, 2, 5, 8], [2, 8], [6, 8], [7], [5, 6], [4, 8], [1, 5, 6, 8], [0, 4, 5, 8], [1, 2], [0, 4], [3, 4, 6], [0, 3, 5, 6], [2, 3, 5], [0, 1, 3, 5], [4, 5, 6, 8], [0], [1, 2, 5, 6], [1, 3, 6, 8], [0, 3, 4], [1, 2, 3, 8], [0, 6], [2, 3], [3, 4, 8], [0, 3, 5, 8], [3, 5, 6, 8], [0, 4, 5], [2], [0, 2, 3, 5], [3, 4], [1, 2, 5, 8], [0, 3, 6], [1, 6], [0, 8], [2, 5], [2, 6, 8], [0, 1, 6, 8], [3, 4, 6, 8], [0, 5, 6], [4], [4, 5], [0, 1, 2], [0, 3, 8], [0, 1], [1, 3, 5], [0, 2, 6, 8], [2, 3, 5, 6], [0, 5, 8], [0, 1, 2, 6], [5, 8], [1, 2, 6], [1, 2, 3, 5], [0, 3, 4, 6], [0, 3], [3, 6, 8], [2, 3, 5, 8]]\n",
            "===================================================================\n",
            "EPOCH = 27\n",
            "K_C1 =\n",
            "[[ True  True  True  True  True  True  True False  True]\n",
            " [ True  True  True  True  True  True  True False  True]\n",
            " [ True  True  True  True False  True  True False  True]\n",
            " [ True  True  True  True  True  True  True False  True]\n",
            " [ True  True  True  True  True  True  True False  True]\n",
            " [ True  True  True  True  True  True  True False  True]\n",
            " [ True  True  True  True  True  True  True False  True]\n",
            " [ True  True  True  True  True  True  True  True False]\n",
            " [ True  True  True  True  True  True  True  True  True]]\n",
            "nu = [[2, 5, 6, 8], [0, 1, 2, 8], [0, 1, 4, 5], [5, 6, 8], [0, 1, 6], [1, 4, 5, 8], [0, 5], [1, 4, 8], [3, 4, 5, 6], [0, 1, 5, 6], [1, 6, 8], [3, 6], [0, 1, 8], [0, 3, 5], [1, 8], [0, 2, 6], [0, 1, 2, 3], [1, 2, 6, 8], [0, 1, 5, 8], [1, 3, 5, 6], [6], [3, 8], [1, 3, 4], [3, 4, 5], [0, 2, 8], [0, 4, 6, 8], [0, 1, 2, 5], [0, 1, 3, 4], [0, 6, 8], [3, 5, 6], [0, 1, 3], [8], [1, 3, 5, 8], [0, 5, 6, 8], [0, 2], [4, 5, 6], [1, 3, 6], [1, 2, 8], [1, 4, 5], [1, 3], [0, 3, 4, 8], [2, 3, 6], [0, 1, 3, 6], [2, 3, 6, 8], [1, 5, 6], [1], [0, 3, 6, 8], [3, 5, 8], [0, 1, 5], [1, 2, 3, 6], [2, 5, 6], [4, 5, 8], [1, 3, 8], [1, 5], [0, 2, 3], [2, 3, 8], [3, 4, 5, 8], [0, 4, 6], [0, 1, 3, 8], [1, 5, 8], [3], [0, 2, 3, 6], [3, 5], [2, 5, 8], [1, 2, 3], [4, 6, 8], [0, 2, 5, 6], [2, 6], [0, 2, 5], [0, 4, 8], [5], [0, 2, 3, 8], [4, 6], [0, 4, 5, 6], [1, 2, 5], [0, 3, 4, 5], [1, 3, 4, 6], [0, 2, 5, 8], [2, 8], [6, 8], [7], [5, 6], [4, 8], [1, 5, 6, 8], [0, 4, 5, 8], [1, 2], [0, 4], [3, 4, 6], [0, 3, 5, 6], [1, 3, 4, 8], [2, 3, 5], [0, 1, 3, 5], [4, 5, 6, 8], [0], [1, 2, 5, 6], [0, 1, 4, 6], [1, 3, 6, 8], [0, 3, 4], [1, 4, 6, 8], [1, 4, 6], [1, 4], [0, 6], [2, 3], [1, 2, 3, 8], [3, 4, 8], [0, 3, 5, 8], [3, 5, 6, 8], [0, 4, 5], [2], [0, 2, 3, 5], [3, 4], [1, 2, 5, 8], [0, 1, 4, 8], [0, 3, 6], [1, 6], [0, 8], [2, 5], [2, 6, 8], [0, 1, 6, 8], [3, 4, 6, 8], [0, 5, 6], [4], [4, 5], [0, 1, 2], [0, 3, 8], [0, 1], [1, 3, 4, 5], [1, 3, 5], [0, 2, 6, 8], [2, 3, 5, 6], [0, 5, 8], [0, 1, 2, 6], [0, 1, 4], [1, 4, 5, 6], [5, 8], [1, 2, 6], [1, 2, 3, 5], [0, 3, 4, 6], [0, 3], [3, 6, 8], [2, 3, 5, 8]]\n",
            "===================================================================\n",
            "EPOCH = 28\n",
            "K_C1 =\n",
            "[[ True  True  True  True  True  True  True False  True]\n",
            " [ True  True  True  True  True  True  True False  True]\n",
            " [ True  True  True  True  True  True  True False  True]\n",
            " [ True  True  True  True  True  True  True False  True]\n",
            " [ True  True  True  True  True  True  True False  True]\n",
            " [ True  True  True  True  True  True  True False  True]\n",
            " [ True  True  True  True  True  True  True False  True]\n",
            " [ True  True  True  True  True  True  True  True False]\n",
            " [ True  True  True  True  True  True  True  True  True]]\n",
            "nu = [[2, 5, 6, 8], [0, 1, 2, 8], [0, 1, 4, 5], [5, 6, 8], [0, 1, 6], [1, 4, 5, 8], [0, 5], [1, 2, 4, 6], [0, 2, 4, 6], [3, 4, 5, 6], [1, 4, 8], [2, 4, 5], [0, 2, 4], [0, 1, 5, 6], [2, 4, 6, 8], [3, 6], [1, 6, 8], [0, 1, 8], [0, 3, 5], [1, 2, 4, 8], [2, 4], [0, 2, 4, 8], [1, 8], [0, 2, 6], [0, 1, 2, 3], [1, 2, 6, 8], [0, 1, 5, 8], [1, 3, 5, 6], [6], [3, 8], [1, 3, 4], [3, 4, 5], [0, 2, 8], [0, 4, 6, 8], [0, 1, 2, 5], [0, 1, 3, 4], [0, 6, 8], [3, 5, 6], [0, 1, 3], [8], [1, 3, 5, 8], [0, 5, 6, 8], [1, 2, 3, 4], [2, 3, 4, 6], [0, 2], [4, 5, 6], [1, 3, 6], [1, 2, 8], [1, 4, 5], [1, 3], [0, 3, 4, 8], [2, 3, 6], [0, 1, 3, 6], [2, 3, 6, 8], [1, 5, 6], [1], [0, 2, 3, 4], [3, 5, 8], [0, 3, 6, 8], [0, 1, 5], [1, 2, 3, 6], [2, 3, 4, 8], [1, 2, 4, 5], [2, 5, 6], [4, 5, 8], [1, 3, 8], [0, 2, 4, 5], [1, 5], [2, 4, 5, 6], [0, 2, 3], [2, 3, 8], [3, 4, 5, 8], [0, 4, 6], [0, 1, 3, 8], [1, 5, 8], [3], [0, 2, 3, 6], [3, 5], [2, 5, 8], [1, 2, 3], [4, 6, 8], [0, 2, 5, 6], [2, 6], [2, 4, 5, 8], [0, 2, 5], [0, 4, 8], [5], [0, 2, 3, 8], [4, 6], [0, 4, 5, 6], [1, 2, 5], [0, 3, 4, 5], [1, 3, 4, 6], [0, 2, 5, 8], [2, 8], [6, 8], [7], [5, 6], [4, 8], [2, 3, 4, 5], [1, 5, 6, 8], [0, 4, 5, 8], [1, 2], [0, 4], [3, 4, 6], [0, 3, 5, 6], [1, 3, 4, 8], [2, 3, 5], [0, 1, 3, 5], [4, 5, 6, 8], [0], [1, 2, 5, 6], [0, 1, 4, 6], [1, 3, 6, 8], [0, 3, 4], [1, 4, 6, 8], [1, 4, 6], [1, 4], [0, 6], [2, 3], [1, 2, 3, 8], [3, 4, 8], [0, 3, 5, 8], [3, 5, 6, 8], [2, 4, 6], [0, 4, 5], [2], [0, 2, 3, 5], [3, 4], [1, 2, 5, 8], [0, 1, 4, 8], [0, 3, 6], [1, 6], [0, 8], [2, 5], [2, 6, 8], [0, 1, 6, 8], [2, 4, 8], [3, 4, 6, 8], [0, 5, 6], [0, 1, 2, 4], [4], [4, 5], [0, 1, 2], [1, 2, 4], [0, 3, 8], [0, 1], [1, 3, 4, 5], [1, 3, 5], [0, 2, 6, 8], [2, 3, 5, 6], [0, 5, 8], [0, 1, 2, 6], [0, 1, 4], [1, 4, 5, 6], [5, 8], [1, 2, 6], [1, 2, 3, 5], [0, 3, 4, 6], [0, 3], [2, 3, 4], [3, 6, 8], [2, 3, 5, 8]]\n",
            "===================================================================\n",
            "EPOCH = 29\n",
            "K_C1 =\n",
            "[[ True  True  True  True  True  True  True False  True]\n",
            " [ True  True  True  True  True  True  True False  True]\n",
            " [ True  True  True  True  True  True  True False  True]\n",
            " [ True  True  True  True  True  True  True False  True]\n",
            " [ True  True  True  True  True  True  True False  True]\n",
            " [ True  True  True  True  True  True  True False  True]\n",
            " [ True  True  True  True  True  True  True  True  True]\n",
            " [ True  True  True  True  True  True  True  True False]\n",
            " [ True  True  True  True  True  True  True  True  True]]\n",
            "nu = [[2, 5, 6, 8], [0, 1, 2, 8], [0, 1, 4, 5], [5, 6, 8], [0, 1, 6], [1, 4, 5, 8], [1, 2, 4, 6], [0, 5], [0, 2, 4, 6], [3, 4, 5, 6], [1, 4, 8], [2, 4, 5], [0, 2, 4], [0, 1, 5, 6], [2, 4, 6, 8], [3, 6], [1, 6, 8], [0, 1, 8], [0, 3, 5], [1, 2, 4, 8], [2, 4], [0, 2, 4, 8], [1, 8], [0, 2, 6], [0, 1, 2, 3], [1, 2, 6, 8], [0, 1, 5, 8], [1, 3, 5, 6], [6], [3, 8], [1, 3, 4], [3, 4, 5], [0, 2, 8], [0, 4, 6, 8], [0, 1, 2, 5], [0, 1, 3, 4], [0, 6, 8], [3, 5, 6], [0, 1, 3], [8], [1, 3, 5, 8], [0, 5, 6, 8], [1, 2, 3, 4], [2, 3, 4, 6], [0, 2], [4, 5, 6], [1, 3, 6], [1, 2, 8], [1, 4, 5], [1, 3], [0, 3, 4, 8], [2, 3, 6], [0, 1, 3, 6], [2, 3, 6, 8], [1, 5, 6], [1], [0, 2, 3, 4], [3, 5, 8], [0, 3, 6, 8], [0, 1, 5], [1, 2, 3, 6], [2, 3, 4, 8], [1, 2, 4, 5], [2, 5, 6], [4, 5, 8], [1, 3, 8], [0, 2, 4, 5], [1, 5], [2, 4, 5, 6], [0, 2, 3], [2, 3, 8], [3, 4, 5, 8], [0, 4, 6], [0, 1, 3, 8], [1, 5, 8], [3], [0, 2, 3, 6], [3, 5], [2, 5, 8], [1, 2, 3], [4, 6, 8], [0, 2, 5, 6], [2, 6], [2, 4, 5, 8], [0, 2, 5], [0, 4, 8], [5], [0, 2, 3, 8], [4, 6], [0, 4, 5, 6], [1, 2, 5], [0, 3, 4, 5], [1, 3, 4, 6], [0, 2, 5, 8], [2, 8], [6, 8], [7], [5, 6], [4, 8], [2, 3, 4, 5], [1, 5, 6, 8], [0, 4, 5, 8], [1, 2], [0, 4], [3, 4, 6], [0, 3, 5, 6], [1, 3, 4, 8], [2, 3, 5], [0, 1, 3, 5], [4, 5, 6, 8], [0], [1, 2, 5, 6], [0, 1, 4, 6], [1, 3, 6, 8], [0, 3, 4], [1, 4, 6, 8], [1, 4, 6], [1, 4], [0, 6], [2, 3], [1, 2, 3, 8], [3, 4, 8], [0, 3, 5, 8], [3, 5, 6, 8], [2, 4, 6], [0, 4, 5], [2], [0, 2, 3, 5], [3, 4], [1, 2, 5, 8], [0, 1, 4, 8], [0, 3, 6], [1, 6], [0, 8], [2, 5], [2, 6, 8], [0, 1, 6, 8], [2, 4, 8], [3, 4, 6, 8], [0, 5, 6], [0, 1, 2, 4], [4], [4, 5], [0, 1, 2], [1, 2, 4], [0, 3, 8], [0, 1], [1, 3, 4, 5], [1, 3, 5], [0, 2, 6, 8], [6, 7], [2, 3, 5, 6], [0, 5, 8], [0, 1, 2, 6], [0, 1, 4], [1, 4, 5, 6], [5, 8], [1, 2, 6], [1, 2, 3, 5], [0, 3, 4, 6], [0, 3], [2, 3, 4], [3, 6, 8], [2, 3, 5, 8]]\n",
            "===================================================================\n",
            "EPOCH = 30\n",
            "K_C1 =\n",
            "[[ True  True  True  True  True  True  True False  True]\n",
            " [ True  True  True  True  True  True  True False  True]\n",
            " [ True  True  True  True  True  True  True False  True]\n",
            " [ True  True  True  True  True  True  True False  True]\n",
            " [ True  True  True  True  True  True  True  True  True]\n",
            " [ True  True  True  True  True  True  True False  True]\n",
            " [ True  True  True  True  True  True  True  True  True]\n",
            " [ True  True  True  True  True  True  True  True False]\n",
            " [ True  True  True  True  True  True  True  True  True]]\n",
            "nu = [[2, 5, 6, 8], [0, 1, 2, 8], [0, 1, 4, 5], [5, 6, 8], [0, 1, 6], [1, 4, 5, 8], [1, 2, 4, 6], [0, 5], [4, 6, 7], [0, 2, 4, 6], [3, 4, 5, 6], [1, 4, 8], [2, 4, 5], [0, 2, 4], [0, 1, 5, 6], [2, 4, 6, 8], [3, 6], [1, 6, 8], [0, 1, 8], [0, 3, 5], [1, 2, 4, 8], [2, 4], [0, 2, 4, 8], [1, 8], [0, 2, 6], [0, 1, 2, 3], [1, 2, 6, 8], [0, 1, 5, 8], [1, 3, 5, 6], [6], [3, 8], [1, 3, 4], [3, 4, 5], [0, 2, 8], [0, 4, 6, 8], [0, 1, 2, 5], [0, 1, 3, 4], [0, 6, 8], [3, 5, 6], [0, 1, 3], [8], [1, 3, 5, 8], [0, 5, 6, 8], [1, 2, 3, 4], [2, 3, 4, 6], [0, 2], [4, 5, 6], [1, 3, 6], [1, 2, 8], [1, 4, 5], [1, 3], [0, 3, 4, 8], [2, 3, 6], [0, 1, 3, 6], [2, 3, 6, 8], [1, 5, 6], [1], [0, 2, 3, 4], [3, 5, 8], [0, 3, 6, 8], [0, 1, 5], [1, 2, 3, 6], [2, 3, 4, 8], [1, 2, 4, 5], [2, 5, 6], [4, 5, 8], [1, 3, 8], [0, 2, 4, 5], [1, 5], [2, 4, 5, 6], [0, 2, 3], [2, 3, 8], [3, 4, 5, 8], [0, 4, 6], [0, 1, 3, 8], [1, 5, 8], [3], [0, 2, 3, 6], [3, 5], [2, 5, 8], [1, 2, 3], [4, 6, 8], [0, 2, 5, 6], [2, 6], [2, 4, 5, 8], [0, 2, 5], [0, 4, 8], [5], [0, 2, 3, 8], [4, 6], [0, 4, 5, 6], [1, 2, 5], [0, 3, 4, 5], [1, 3, 4, 6], [0, 2, 5, 8], [2, 8], [6, 8], [7], [5, 6], [4, 8], [2, 3, 4, 5], [1, 5, 6, 8], [0, 4, 5, 8], [1, 2], [0, 4], [3, 4, 6], [0, 3, 5, 6], [1, 3, 4, 8], [2, 3, 5], [0, 1, 3, 5], [4, 5, 6, 8], [0], [1, 2, 5, 6], [0, 1, 4, 6], [1, 3, 6, 8], [0, 3, 4], [1, 4, 6, 8], [1, 4, 6], [1, 4], [0, 6], [2, 3], [1, 2, 3, 8], [3, 4, 8], [0, 3, 5, 8], [3, 5, 6, 8], [2, 4, 6], [0, 4, 5], [2], [0, 2, 3, 5], [3, 4], [1, 2, 5, 8], [0, 1, 4, 8], [0, 3, 6], [1, 6], [0, 8], [2, 5], [2, 6, 8], [0, 1, 6, 8], [2, 4, 8], [3, 4, 6, 8], [0, 5, 6], [0, 1, 2, 4], [4], [4, 5], [0, 1, 2], [1, 2, 4], [0, 3, 8], [0, 1], [1, 3, 4, 5], [1, 3, 5], [0, 2, 6, 8], [6, 7], [2, 3, 5, 6], [0, 5, 8], [0, 1, 2, 6], [4, 7], [0, 1, 4], [1, 4, 5, 6], [5, 8], [1, 2, 6], [1, 2, 3, 5], [0, 3, 4, 6], [0, 3], [2, 3, 4], [3, 6, 8], [2, 3, 5, 8]]\n",
            "===================================================================\n",
            "EPOCH = 31\n",
            "K_C1 =\n",
            "[[ True  True  True  True  True  True  True False  True]\n",
            " [ True  True  True  True  True  True  True False  True]\n",
            " [ True  True  True  True  True  True  True False  True]\n",
            " [ True  True  True  True  True  True  True  True  True]\n",
            " [ True  True  True  True  True  True  True  True  True]\n",
            " [ True  True  True  True  True  True  True False  True]\n",
            " [ True  True  True  True  True  True  True  True  True]\n",
            " [ True  True  True  True  True  True  True  True False]\n",
            " [ True  True  True  True  True  True  True  True  True]]\n",
            "nu = [[2, 5, 6, 8], [0, 1, 2, 8], [0, 1, 4, 5], [5, 6, 8], [0, 1, 6], [1, 4, 5, 8], [1, 2, 4, 6], [0, 5], [4, 6, 7], [0, 2, 4, 6], [3, 4, 5, 6], [1, 4, 8], [2, 4, 5], [0, 2, 4], [0, 1, 5, 6], [2, 4, 6, 8], [3, 6], [1, 6, 8], [0, 1, 8], [0, 3, 5], [1, 2, 4, 8], [2, 4], [0, 2, 4, 8], [1, 8], [3, 4, 6, 7], [0, 2, 6], [0, 1, 2, 3], [1, 2, 6, 8], [0, 1, 5, 8], [1, 3, 5, 6], [6], [3, 8], [1, 3, 4], [3, 4, 5], [0, 2, 8], [0, 4, 6, 8], [0, 1, 2, 5], [0, 1, 3, 4], [0, 6, 8], [3, 5, 6], [0, 1, 3], [8], [1, 3, 5, 8], [0, 5, 6, 8], [1, 2, 3, 4], [2, 3, 4, 6], [0, 2], [4, 5, 6], [1, 3, 6], [1, 2, 8], [1, 4, 5], [1, 3], [0, 3, 4, 8], [3, 4, 7], [2, 3, 6], [0, 1, 3, 6], [2, 3, 6, 8], [1, 5, 6], [1], [0, 2, 3, 4], [3, 5, 8], [0, 3, 6, 8], [0, 1, 5], [1, 2, 3, 6], [2, 3, 4, 8], [1, 2, 4, 5], [2, 5, 6], [4, 5, 8], [1, 3, 8], [0, 2, 4, 5], [1, 5], [2, 4, 5, 6], [0, 2, 3], [2, 3, 8], [3, 4, 5, 8], [0, 4, 6], [0, 1, 3, 8], [1, 5, 8], [3], [0, 2, 3, 6], [3, 5], [2, 5, 8], [1, 2, 3], [4, 6, 8], [0, 2, 5, 6], [2, 6], [2, 4, 5, 8], [0, 2, 5], [0, 4, 8], [5], [0, 2, 3, 8], [3, 7], [4, 6], [0, 4, 5, 6], [1, 2, 5], [0, 3, 4, 5], [1, 3, 4, 6], [0, 2, 5, 8], [2, 8], [3, 6, 7], [6, 8], [7], [5, 6], [4, 8], [2, 3, 4, 5], [1, 5, 6, 8], [0, 4, 5, 8], [1, 2], [0, 4], [3, 4, 6], [0, 3, 5, 6], [1, 3, 4, 8], [2, 3, 5], [0, 1, 3, 5], [4, 5, 6, 8], [0], [1, 2, 5, 6], [0, 1, 4, 6], [1, 3, 6, 8], [0, 3, 4], [1, 4, 6, 8], [1, 4, 6], [1, 4], [0, 6], [2, 3], [1, 2, 3, 8], [3, 4, 8], [0, 3, 5, 8], [3, 5, 6, 8], [2, 4, 6], [0, 4, 5], [2], [0, 2, 3, 5], [3, 4], [1, 2, 5, 8], [0, 1, 4, 8], [0, 3, 6], [1, 6], [0, 8], [2, 5], [2, 6, 8], [0, 1, 6, 8], [2, 4, 8], [3, 4, 6, 8], [0, 5, 6], [0, 1, 2, 4], [4], [4, 5], [0, 1, 2], [1, 2, 4], [0, 3, 8], [0, 1], [1, 3, 4, 5], [1, 3, 5], [0, 2, 6, 8], [6, 7], [2, 3, 5, 6], [0, 5, 8], [0, 1, 2, 6], [4, 7], [0, 1, 4], [1, 4, 5, 6], [5, 8], [1, 2, 6], [1, 2, 3, 5], [0, 3, 4, 6], [0, 3], [2, 3, 4], [3, 6, 8], [2, 3, 5, 8]]\n",
            "===================================================================\n",
            "EPOCH = 32\n",
            "K_C1 =\n",
            "[[ True  True  True  True  True  True  True False  True]\n",
            " [ True  True  True  True  True  True  True False  True]\n",
            " [ True  True  True  True  True  True  True False  True]\n",
            " [ True  True  True  True  True  True  True  True  True]\n",
            " [ True  True  True  True  True  True  True  True  True]\n",
            " [ True  True  True  True  True  True  True  True  True]\n",
            " [ True  True  True  True  True  True  True  True  True]\n",
            " [ True  True  True  True  True  True  True  True False]\n",
            " [ True  True  True  True  True  True  True  True  True]]\n",
            "nu = [[2, 5, 6, 8], [0, 1, 2, 8], [0, 1, 4, 5], [5, 6, 8], [0, 1, 6], [1, 4, 5, 8], [0, 5], [1, 2, 4, 6], [4, 6, 7], [0, 2, 4, 6], [3, 4, 5, 6], [1, 4, 8], [2, 4, 5], [0, 2, 4], [0, 1, 5, 6], [2, 4, 6, 8], [3, 6], [1, 6, 8], [0, 1, 8], [0, 3, 5], [1, 2, 4, 8], [2, 4], [0, 2, 4, 8], [1, 8], [3, 4, 6, 7], [0, 2, 6], [0, 1, 2, 3], [1, 2, 6, 8], [0, 1, 5, 8], [1, 3, 5, 6], [6], [3, 8], [1, 3, 4], [3, 4, 5], [0, 2, 8], [0, 4, 6, 8], [0, 1, 2, 5], [0, 1, 3, 4], [0, 6, 8], [3, 5, 6], [0, 1, 3], [8], [1, 3, 5, 8], [0, 5, 6, 8], [5, 7], [1, 2, 3, 4], [2, 3, 4, 6], [0, 2], [4, 5, 6], [1, 3, 6], [1, 2, 8], [1, 4, 5], [1, 3], [0, 3, 4, 8], [3, 4, 7], [3, 5, 6, 7], [2, 3, 6], [0, 1, 3, 6], [2, 3, 6, 8], [1, 5, 6], [1], [0, 2, 3, 4], [5, 6, 7], [3, 5, 8], [0, 1, 5], [0, 3, 6, 8], [1, 2, 3, 6], [2, 3, 4, 8], [1, 2, 4, 5], [2, 5, 6], [4, 5, 8], [1, 3, 8], [0, 2, 4, 5], [1, 5], [2, 4, 5, 6], [0, 2, 3], [2, 3, 8], [3, 4, 5, 8], [0, 4, 6], [0, 1, 3, 8], [1, 5, 8], [3], [0, 2, 3, 6], [3, 5], [2, 5, 8], [1, 2, 3], [4, 6, 8], [0, 2, 5, 6], [2, 6], [2, 4, 5, 8], [0, 2, 5], [0, 4, 8], [5], [0, 2, 3, 8], [3, 7], [4, 6], [0, 4, 5, 6], [1, 2, 5], [0, 3, 4, 5], [1, 3, 4, 6], [0, 2, 5, 8], [2, 8], [3, 6, 7], [6, 8], [7], [5, 6], [4, 8], [2, 3, 4, 5], [1, 5, 6, 8], [0, 4, 5, 8], [1, 2], [0, 4], [3, 4, 6], [0, 3, 5, 6], [1, 3, 4, 8], [2, 3, 5], [0, 1, 3, 5], [4, 5, 6, 8], [0], [1, 2, 5, 6], [0, 1, 4, 6], [1, 3, 6, 8], [0, 3, 4], [4, 5, 7], [1, 4, 6, 8], [1, 4, 6], [1, 4], [0, 6], [2, 3], [1, 2, 3, 8], [3, 4, 8], [0, 3, 5, 8], [3, 5, 6, 8], [3, 4, 5, 7], [2, 4, 6], [0, 4, 5], [2], [0, 2, 3, 5], [3, 4], [1, 2, 5, 8], [0, 1, 4, 8], [0, 3, 6], [1, 6], [0, 8], [2, 5], [2, 6, 8], [0, 1, 6, 8], [2, 4, 8], [3, 4, 6, 8], [0, 5, 6], [0, 1, 2, 4], [4], [4, 5], [0, 1, 2], [1, 2, 4], [0, 3, 8], [0, 1], [1, 3, 4, 5], [1, 3, 5], [0, 2, 6, 8], [6, 7], [2, 3, 5, 6], [0, 5, 8], [0, 1, 2, 6], [4, 7], [3, 5, 7], [0, 1, 4], [1, 4, 5, 6], [5, 8], [1, 2, 6], [1, 2, 3, 5], [0, 3, 4, 6], [0, 3], [2, 3, 4], [3, 6, 8], [4, 5, 6, 7], [2, 3, 5, 8]]\n",
            "===================================================================\n",
            "EPOCH = 33\n",
            "K_C1 =\n",
            "[[ True  True  True  True  True  True  True  True  True]\n",
            " [ True  True  True  True  True  True  True False  True]\n",
            " [ True  True  True  True  True  True  True False  True]\n",
            " [ True  True  True  True  True  True  True  True  True]\n",
            " [ True  True  True  True  True  True  True  True  True]\n",
            " [ True  True  True  True  True  True  True  True  True]\n",
            " [ True  True  True  True  True  True  True  True  True]\n",
            " [ True  True  True  True  True  True  True  True False]\n",
            " [ True  True  True  True  True  True  True  True  True]]\n",
            "nu = [[2, 5, 6, 8], [0, 1, 2, 8], [0, 1, 4, 5], [5, 6, 8], [0, 1, 6], [1, 4, 5, 8], [0, 5], [1, 2, 4, 6], [0, 3, 5, 7], [4, 6, 7], [0, 2, 4, 6], [3, 4, 5, 6], [1, 4, 8], [2, 4, 5], [0, 2, 4], [0, 1, 5, 6], [2, 4, 6, 8], [3, 6], [1, 6, 8], [0, 1, 8], [0, 3, 5], [0, 7], [2, 4], [1, 2, 4, 8], [0, 2, 4, 8], [1, 8], [3, 4, 6, 7], [0, 2, 6], [0, 1, 2, 3], [1, 2, 6, 8], [0, 1, 5, 8], [1, 3, 5, 6], [6], [3, 8], [0, 3, 7], [0, 4, 5, 7], [1, 3, 4], [3, 4, 5], [0, 2, 8], [0, 4, 6, 8], [0, 1, 2, 5], [0, 1, 3, 4], [0, 6, 8], [3, 5, 6], [0, 1, 3], [8], [1, 3, 5, 8], [0, 5, 6, 8], [5, 7], [1, 2, 3, 4], [2, 3, 4, 6], [0, 2], [4, 5, 6], [1, 3, 6], [1, 2, 8], [1, 4, 5], [1, 3], [0, 3, 4, 8], [3, 4, 7], [3, 5, 6, 7], [2, 3, 6], [0, 1, 3, 6], [2, 3, 6, 8], [1, 5, 6], [1], [0, 2, 3, 4], [5, 6, 7], [3, 5, 8], [0, 1, 5], [0, 3, 6, 8], [1, 2, 3, 6], [2, 3, 4, 8], [1, 2, 4, 5], [2, 5, 6], [4, 5, 8], [1, 3, 8], [0, 2, 4, 5], [1, 5], [2, 4, 5, 6], [0, 2, 3], [2, 3, 8], [3, 4, 5, 8], [0, 4, 6], [0, 1, 3, 8], [1, 5, 8], [3], [0, 2, 3, 6], [3, 5], [2, 5, 8], [1, 2, 3], [4, 6, 8], [0, 2, 5, 6], [2, 6], [2, 4, 5, 8], [0, 2, 5], [0, 4, 8], [0, 5, 7], [5], [0, 2, 3, 8], [3, 7], [4, 6], [0, 4, 5, 6], [1, 2, 5], [0, 3, 4, 5], [1, 3, 4, 6], [0, 2, 5, 8], [2, 8], [3, 6, 7], [6, 8], [0, 6, 7], [0, 5, 6, 7], [7], [5, 6], [4, 8], [2, 3, 4, 5], [1, 5, 6, 8], [0, 4, 5, 8], [0, 3, 4, 7], [1, 2], [0, 4], [3, 4, 6], [0, 3, 5, 6], [1, 3, 4, 8], [2, 3, 5], [0, 1, 3, 5], [4, 5, 6, 8], [0], [1, 2, 5, 6], [0, 3, 6, 7], [0, 1, 4, 6], [1, 3, 6, 8], [0, 3, 4], [4, 5, 7], [1, 4, 6, 8], [1, 4, 6], [1, 4], [0, 6], [2, 3], [1, 2, 3, 8], [3, 4, 8], [0, 3, 5, 8], [3, 5, 6, 8], [3, 4, 5, 7], [2, 4, 6], [0, 4, 5], [2], [0, 2, 3, 5], [3, 4], [1, 2, 5, 8], [0, 1, 4, 8], [0, 3, 6], [1, 6], [0, 8], [2, 5], [2, 6, 8], [0, 1, 6, 8], [2, 4, 8], [3, 4, 6, 8], [0, 4, 7], [0, 5, 6], [0, 4, 6, 7], [0, 1, 2, 4], [4], [4, 5], [0, 1, 2], [1, 2, 4], [0, 3, 8], [0, 1], [1, 3, 4, 5], [1, 3, 5], [0, 2, 6, 8], [6, 7], [2, 3, 5, 6], [0, 5, 8], [0, 1, 2, 6], [4, 7], [3, 5, 7], [0, 1, 4], [1, 4, 5, 6], [5, 8], [1, 2, 6], [1, 2, 3, 5], [0, 3, 4, 6], [0, 3], [2, 3, 4], [3, 6, 8], [4, 5, 6, 7], [2, 3, 5, 8]]\n",
            "===================================================================\n",
            "EPOCH = 34\n",
            "K_C1 =\n",
            "[[ True  True  True  True  True  True  True  True  True]\n",
            " [ True  True  True  True  True  True  True False  True]\n",
            " [ True  True  True  True  True  True  True  True  True]\n",
            " [ True  True  True  True  True  True  True  True  True]\n",
            " [ True  True  True  True  True  True  True  True  True]\n",
            " [ True  True  True  True  True  True  True  True  True]\n",
            " [ True  True  True  True  True  True  True  True  True]\n",
            " [ True  True  True  True  True  True  True  True False]\n",
            " [ True  True  True  True  True  True  True  True  True]]\n",
            "nu = [[2, 5, 6, 8], [0, 1, 2, 8], [0, 1, 4, 5], [5, 6, 8], [0, 1, 6], [1, 4, 5, 8], [0, 5], [0, 3, 5, 7], [1, 2, 4, 6], [4, 6, 7], [0, 2, 4, 6], [3, 4, 5, 6], [1, 4, 8], [2, 4, 5], [0, 2, 4], [0, 1, 5, 6], [0, 2, 3, 7], [2, 4, 6, 8], [3, 6], [1, 6, 8], [0, 1, 8], [0, 3, 5], [0, 7], [2, 4], [2, 6, 7], [1, 2, 4, 8], [0, 2, 4, 8], [1, 8], [0, 2, 5, 7], [2, 4, 7], [3, 4, 6, 7], [0, 2, 6], [0, 1, 2, 3], [1, 2, 6, 8], [0, 1, 5, 8], [1, 3, 5, 6], [6], [3, 8], [0, 3, 7], [0, 4, 5, 7], [1, 3, 4], [3, 4, 5], [0, 2, 6, 7], [0, 2, 8], [0, 4, 6, 8], [0, 1, 2, 5], [0, 1, 3, 4], [0, 6, 8], [3, 5, 6], [0, 1, 3], [8], [1, 3, 5, 8], [0, 5, 6, 8], [5, 7], [1, 2, 3, 4], [2, 3, 4, 6], [0, 2], [4, 5, 6], [1, 3, 6], [1, 2, 8], [1, 4, 5], [1, 3], [0, 3, 4, 8], [3, 4, 7], [3, 5, 6, 7], [2, 3, 5, 7], [2, 3, 6], [0, 1, 3, 6], [2, 3, 6, 8], [1, 5, 6], [1], [0, 2, 3, 4], [5, 6, 7], [3, 5, 8], [0, 1, 5], [0, 3, 6, 8], [1, 2, 3, 6], [2, 3, 4, 8], [1, 2, 4, 5], [2, 5, 6], [4, 5, 8], [1, 3, 8], [0, 2, 4, 5], [1, 5], [2, 4, 5, 6], [0, 2, 3], [2, 3, 8], [3, 4, 5, 8], [0, 4, 6], [0, 1, 3, 8], [1, 5, 8], [3], [0, 2, 3, 6], [3, 5], [2, 4, 6, 7], [2, 5, 8], [1, 2, 3], [4, 6, 8], [0, 2, 5, 6], [2, 6], [2, 4, 5, 8], [0, 2, 5], [0, 4, 8], [0, 5, 7], [5], [0, 2, 3, 8], [3, 7], [4, 6], [0, 4, 5, 6], [1, 2, 5], [0, 3, 4, 5], [1, 3, 4, 6], [0, 2, 5, 8], [2, 8], [0, 2, 7], [3, 6, 7], [6, 8], [0, 6, 7], [2, 5, 6, 7], [0, 5, 6, 7], [7], [5, 6], [4, 8], [2, 3, 4, 5], [1, 5, 6, 8], [0, 4, 5, 8], [0, 3, 4, 7], [1, 2], [0, 4], [3, 4, 6], [0, 3, 5, 6], [1, 3, 4, 8], [2, 3, 5], [0, 1, 3, 5], [4, 5, 6, 8], [2, 3, 6, 7], [0], [1, 2, 5, 6], [0, 3, 6, 7], [0, 1, 4, 6], [1, 3, 6, 8], [2, 3, 4, 7], [0, 3, 4], [4, 5, 7], [1, 4, 6, 8], [1, 4, 6], [1, 4], [0, 6], [2, 3], [1, 2, 3, 8], [3, 4, 8], [0, 3, 5, 8], [3, 5, 6, 8], [0, 2, 4, 7], [2, 3, 7], [3, 4, 5, 7], [2, 4, 6], [0, 4, 5], [2], [0, 2, 3, 5], [3, 4], [1, 2, 5, 8], [0, 1, 4, 8], [2, 5, 7], [0, 3, 6], [1, 6], [2, 4, 5, 7], [2, 5], [0, 8], [2, 6, 8], [0, 1, 6, 8], [2, 4, 8], [3, 4, 6, 8], [0, 4, 7], [0, 5, 6], [0, 4, 6, 7], [0, 1, 2, 4], [4], [4, 5], [0, 1, 2], [1, 2, 4], [0, 3, 8], [0, 1], [1, 3, 4, 5], [2, 7], [1, 3, 5], [0, 2, 6, 8], [6, 7], [2, 3, 5, 6], [0, 5, 8], [0, 1, 2, 6], [4, 7], [3, 5, 7], [0, 1, 4], [1, 4, 5, 6], [5, 8], [1, 2, 6], [1, 2, 3, 5], [0, 3, 4, 6], [0, 3], [2, 3, 4], [3, 6, 8], [4, 5, 6, 7], [2, 3, 5, 8]]\n",
            "===================================================================\n",
            "EPOCH = 35\n",
            "K_C1 =\n",
            "[[ True  True  True  True  True  True  True  True  True]\n",
            " [ True  True  True  True  True  True  True  True  True]\n",
            " [ True  True  True  True  True  True  True  True  True]\n",
            " [ True  True  True  True  True  True  True  True  True]\n",
            " [ True  True  True  True  True  True  True  True  True]\n",
            " [ True  True  True  True  True  True  True  True  True]\n",
            " [ True  True  True  True  True  True  True  True  True]\n",
            " [ True  True  True  True  True  True  True  True False]\n",
            " [ True  True  True  True  True  True  True  True  True]]\n",
            "nu = [[2, 5, 6, 8], [0, 1, 2, 8], [0, 1, 4, 5], [0, 1, 3, 7], [1, 5, 7], [5, 6, 8], [0, 1, 6], [1, 4, 5, 8], [1, 4, 6, 7], [1, 2, 3, 7], [1, 2, 4, 6], [0, 5], [0, 3, 5, 7], [4, 6, 7], [0, 2, 4, 6], [3, 4, 5, 6], [1, 4, 8], [2, 4, 5], [0, 2, 4], [1, 2, 5, 7], [0, 1, 4, 7], [0, 1, 5, 6], [0, 2, 3, 7], [2, 4, 6, 8], [3, 6], [1, 6, 8], [0, 1, 8], [0, 3, 5], [0, 7], [2, 4], [2, 6, 7], [1, 2, 4, 8], [0, 1, 6, 7], [0, 2, 4, 8], [1, 8], [0, 2, 5, 7], [2, 4, 7], [3, 4, 6, 7], [0, 2, 6], [0, 1, 2, 3], [1, 2, 6, 8], [0, 1, 5, 8], [1, 3, 5, 6], [6], [3, 8], [0, 3, 7], [0, 4, 5, 7], [1, 3, 4], [3, 4, 5], [1, 3, 4, 7], [0, 2, 6, 7], [0, 2, 8], [0, 4, 6, 8], [0, 1, 2, 5], [0, 1, 3, 4], [0, 6, 8], [3, 5, 6], [0, 1, 3], [8], [1, 3, 6, 7], [1, 3, 5, 8], [5, 7], [0, 5, 6, 8], [1, 2, 3, 4], [2, 3, 4, 6], [0, 2], [4, 5, 6], [1, 3, 6], [1, 2, 8], [1, 4, 5], [1, 3], [0, 3, 4, 8], [3, 4, 7], [3, 5, 6, 7], [2, 3, 5, 7], [2, 3, 6], [0, 1, 2, 7], [0, 1, 3, 6], [2, 3, 6, 8], [1, 5, 6], [1], [0, 2, 3, 4], [5, 6, 7], [3, 5, 8], [0, 1, 5], [0, 3, 6, 8], [1, 2, 3, 6], [2, 3, 4, 8], [1, 2, 4, 5], [2, 5, 6], [4, 5, 8], [1, 3, 8], [0, 2, 4, 5], [1, 5], [2, 4, 5, 6], [1, 4, 7], [0, 2, 3], [2, 3, 8], [3, 4, 5, 8], [0, 4, 6], [0, 1, 3, 8], [1, 5, 8], [3], [0, 2, 3, 6], [3, 5], [2, 4, 6, 7], [1, 6, 7], [1, 2, 4, 7], [2, 5, 8], [1, 2, 3], [4, 6, 8], [1, 7], [0, 2, 5, 6], [2, 6], [2, 4, 5, 8], [0, 2, 5], [1, 2, 6, 7], [0, 4, 8], [0, 1, 5, 7], [0, 5, 7], [5], [0, 2, 3, 8], [3, 7], [4, 6], [0, 4, 5, 6], [1, 2, 5], [0, 3, 4, 5], [1, 3, 4, 6], [0, 2, 5, 8], [2, 8], [0, 2, 7], [3, 6, 7], [6, 8], [0, 6, 7], [2, 5, 6, 7], [1, 3, 5, 7], [7], [0, 5, 6, 7], [5, 6], [4, 8], [2, 3, 4, 5], [1, 5, 6, 8], [0, 4, 5, 8], [1, 4, 5, 7], [1, 2, 7], [0, 3, 4, 7], [1, 2], [0, 4], [3, 4, 6], [0, 3, 5, 6], [1, 3, 4, 8], [2, 3, 5], [0, 1, 3, 5], [4, 5, 6, 8], [2, 3, 6, 7], [0], [1, 2, 5, 6], [0, 3, 6, 7], [0, 1, 4, 6], [1, 3, 6, 8], [2, 3, 4, 7], [0, 1, 7], [0, 3, 4], [4, 5, 7], [1, 4, 6, 8], [1, 4, 6], [1, 4], [0, 6], [2, 3], [1, 2, 3, 8], [3, 4, 8], [0, 3, 5, 8], [3, 5, 6, 8], [0, 2, 4, 7], [2, 3, 7], [3, 4, 5, 7], [2, 4, 6], [0, 4, 5], [2], [0, 2, 3, 5], [3, 4], [1, 2, 5, 8], [0, 1, 4, 8], [2, 5, 7], [0, 3, 6], [1, 6], [2, 4, 5, 7], [2, 5], [0, 8], [2, 6, 8], [0, 1, 6, 8], [2, 4, 8], [3, 4, 6, 8], [0, 4, 7], [0, 5, 6], [0, 4, 6, 7], [0, 1, 2, 4], [4], [4, 5], [0, 1, 2], [1, 2, 4], [0, 3, 8], [0, 1], [1, 3, 4, 5], [2, 7], [1, 3, 5], [0, 2, 6, 8], [6, 7], [2, 3, 5, 6], [0, 5, 8], [0, 1, 2, 6], [4, 7], [1, 5, 6, 7], [3, 5, 7], [0, 1, 4], [1, 4, 5, 6], [5, 8], [1, 2, 6], [1, 2, 3, 5], [0, 3, 4, 6], [0, 3], [1, 3, 7], [2, 3, 4], [3, 6, 8], [4, 5, 6, 7], [2, 3, 5, 8]]\n",
            "===================================================================\n",
            "EPOCH = 36\n",
            "K_C1 =\n",
            "[[ True  True  True  True  True  True  True  True  True]\n",
            " [ True  True  True  True  True  True  True  True  True]\n",
            " [ True  True  True  True  True  True  True  True  True]\n",
            " [ True  True  True  True  True  True  True  True  True]\n",
            " [ True  True  True  True  True  True  True  True  True]\n",
            " [ True  True  True  True  True  True  True  True  True]\n",
            " [ True  True  True  True  True  True  True  True  True]\n",
            " [ True  True  True  True  True  True  True  True  True]\n",
            " [ True  True  True  True  True  True  True  True  True]]\n",
            "nu = [[2, 5, 6, 8], [0, 1, 2, 8], [0, 1, 4, 5], [0, 1, 3, 7], [1, 5, 7], [5, 6, 8], [0, 1, 6], [1, 4, 5, 8], [1, 4, 6, 7], [1, 2, 3, 7], [1, 2, 4, 6], [0, 5], [0, 3, 5, 7], [4, 6, 7], [1, 4, 8], [3, 4, 5, 6], [0, 2, 4, 6], [2, 4, 5], [0, 2, 4], [4, 5, 7, 8], [1, 2, 5, 7], [0, 1, 4, 7], [6, 7, 8], [0, 1, 5, 6], [0, 2, 3, 7], [2, 4, 6, 8], [3, 6], [1, 6, 8], [0, 1, 8], [0, 3, 5], [3, 7, 8], [0, 7], [2, 4], [2, 6, 7], [1, 2, 4, 8], [0, 1, 6, 7], [4, 7, 8], [0, 2, 4, 8], [1, 8], [0, 2, 5, 7], [2, 4, 7], [3, 4, 6, 7], [0, 2, 6], [0, 1, 2, 3], [1, 2, 6, 8], [0, 1, 5, 8], [1, 3, 5, 6], [6], [2, 6, 7, 8], [3, 8], [1, 7, 8], [0, 6, 7, 8], [0, 3, 7], [0, 4, 5, 7], [1, 3, 4], [2, 7, 8], [3, 4, 5], [1, 3, 4, 7], [0, 2, 6, 7], [1, 5, 7, 8], [0, 2, 8], [0, 4, 6, 8], [0, 1, 2, 5], [0, 1, 3, 4], [0, 6, 8], [3, 5, 6], [0, 1, 3], [8], [1, 3, 6, 7], [1, 3, 5, 8], [5, 7], [0, 5, 6, 8], [1, 2, 3, 4], [2, 3, 4, 6], [0, 2], [4, 5, 6], [1, 3, 6], [1, 2, 8], [1, 4, 5], [1, 3], [0, 3, 4, 8], [3, 4, 7], [3, 5, 6, 7], [1, 3, 7, 8], [0, 2, 7, 8], [2, 3, 5, 7], [2, 3, 6], [0, 1, 2, 7], [0, 1, 3, 6], [2, 3, 6, 8], [1, 5, 6], [1], [0, 2, 3, 4], [5, 6, 7], [3, 5, 8], [0, 1, 5], [0, 3, 6, 8], [0, 5, 7, 8], [3, 5, 7, 8], [1, 2, 3, 6], [2, 3, 4, 8], [1, 2, 4, 5], [2, 5, 6], [4, 5, 8], [1, 3, 8], [0, 2, 4, 5], [1, 5], [2, 4, 5, 6], [1, 4, 7], [0, 2, 3], [2, 3, 8], [3, 4, 5, 8], [0, 4, 6], [0, 1, 3, 8], [1, 5, 8], [3], [0, 2, 3, 6], [3, 5], [2, 4, 6, 7], [1, 6, 7], [0, 1, 7, 8], [1, 2, 4, 7], [2, 5, 8], [3, 4, 7, 8], [1, 2, 3], [4, 6, 8], [1, 7], [0, 2, 5, 6], [2, 6], [2, 4, 5, 8], [0, 3, 7, 8], [0, 2, 5], [7, 8], [1, 2, 6, 7], [0, 4, 8], [0, 1, 5, 7], [0, 5, 7], [3, 6, 7, 8], [5], [0, 2, 3, 8], [3, 7], [1, 2, 7, 8], [4, 6], [2, 4, 7, 8], [0, 4, 5, 6], [1, 2, 5], [0, 3, 4, 5], [1, 3, 4, 6], [0, 2, 5, 8], [2, 8], [0, 2, 7], [3, 6, 7], [6, 8], [0, 6, 7], [2, 5, 6, 7], [4, 6, 7, 8], [1, 3, 5, 7], [7], [0, 5, 6, 7], [5, 6], [4, 8], [2, 3, 4, 5], [1, 5, 6, 8], [0, 4, 5, 8], [1, 4, 5, 7], [1, 2, 7], [0, 3, 4, 7], [1, 2], [0, 4], [3, 4, 6], [0, 3, 5, 6], [1, 3, 4, 8], [5, 7, 8], [2, 3, 5], [0, 4, 7, 8], [0, 1, 3, 5], [4, 5, 6, 8], [2, 3, 6, 7], [0], [1, 2, 5, 6], [0, 3, 6, 7], [2, 5, 7, 8], [0, 1, 4, 6], [0, 7, 8], [1, 3, 6, 8], [2, 3, 4, 7], [0, 1, 7], [0, 3, 4], [4, 5, 7], [1, 4, 6, 8], [1, 4, 6], [1, 4], [0, 6], [2, 3], [1, 2, 3, 8], [3, 4, 8], [0, 3, 5, 8], [3, 5, 6, 8], [1, 6, 7, 8], [0, 2, 4, 7], [2, 3, 7], [3, 4, 5, 7], [2, 4, 6], [0, 4, 5], [2], [0, 2, 3, 5], [3, 4], [1, 2, 5, 8], [0, 1, 4, 8], [2, 3, 7, 8], [5, 6, 7, 8], [2, 5, 7], [0, 3, 6], [1, 4, 7, 8], [1, 6], [2, 4, 5, 7], [2, 5], [0, 8], [2, 6, 8], [0, 1, 6, 8], [2, 4, 8], [3, 4, 6, 8], [0, 4, 7], [0, 5, 6], [0, 4, 6, 7], [0, 1, 2, 4], [4], [4, 5], [0, 1, 2], [1, 2, 4], [0, 3, 8], [0, 1], [1, 3, 4, 5], [2, 7], [1, 3, 5], [0, 2, 6, 8], [6, 7], [2, 3, 5, 6], [0, 5, 8], [0, 1, 2, 6], [4, 7], [1, 5, 6, 7], [3, 5, 7], [0, 1, 4], [1, 4, 5, 6], [5, 8], [1, 2, 6], [1, 2, 3, 5], [0, 3, 4, 6], [0, 3], [1, 3, 7], [2, 3, 4], [3, 6, 8], [4, 5, 6, 7], [2, 3, 5, 8]]\n"
          ]
        }
      ]
    },
    {
      "cell_type": "code",
      "source": [
        "# test plot of the birth and death data.\n",
        "import matplotlib.pyplot as plt\n",
        "print(birthEpoch)\n",
        "print(deathEpoch)\n",
        "\n",
        "# Create scatter plot\n",
        "plt.scatter(birthEpoch, deathEpoch)\n",
        "\n",
        "# Add title and labels\n",
        "plt.title('Simple Persistence Diagram')\n",
        "plt.xlabel('Birth Epoch')\n",
        "plt.ylabel('Death Epoch')\n",
        "\n",
        "# Show plot\n",
        "plt.show()"
      ],
      "metadata": {
        "id": "ePBUf3m47GL8",
        "outputId": "511c2cf3-03ce-41fb-a468-99a524029688",
        "colab": {
          "base_uri": "https://localhost:8080/",
          "height": 876
        }
      },
      "execution_count": null,
      "outputs": [
        {
          "output_type": "display_data",
          "data": {
            "text/plain": [
              "<IPython.core.display.HTML object>"
            ],
            "text/html": [
              "\n",
              "  <style>\n",
              "    pre {\n",
              "        white-space: pre-wrap;\n",
              "    }\n",
              "  </style>\n",
              "  "
            ]
          },
          "metadata": {}
        },
        {
          "output_type": "display_data",
          "data": {
            "text/plain": [
              "<IPython.core.display.HTML object>"
            ],
            "text/html": [
              "\n",
              "  <style>\n",
              "    pre {\n",
              "        white-space: pre-wrap;\n",
              "    }\n",
              "  </style>\n",
              "  "
            ]
          },
          "metadata": {}
        },
        {
          "output_type": "display_data",
          "data": {
            "text/plain": [
              "<IPython.core.display.HTML object>"
            ],
            "text/html": [
              "\n",
              "  <style>\n",
              "    pre {\n",
              "        white-space: pre-wrap;\n",
              "    }\n",
              "  </style>\n",
              "  "
            ]
          },
          "metadata": {}
        },
        {
          "output_type": "stream",
          "name": "stdout",
          "text": [
            "[ 0  0  0  0  0  0  0  0  0  1  2  3  4  4  5  6  6  7  7  7  7  8  9 10\n",
            " 11 12 12 13 13 13 13 13 14 14 15 15 15 15 16 16 16 16 17 17 17 17 18 18\n",
            " 19 19 19 19 19 19 19 20 20 20 20 21 21 21 21 21 21 21 21 21 21 22 22 22\n",
            " 22 22 22 22 23 23 23 23 23 23 23 23 23 23 23 24 24 24 24 24 24 24 25 25\n",
            " 25 25 25 25 25 25 25 25 25 25 25 25 25 26 26 26 26 26 26 26 26 26 26 26\n",
            " 26 26 26 26 26 27 27 27 27 27 27 27 27 27 27 27 27 27 27 27 27 28 28 28\n",
            " 28 28 28 28 28 28 28 28 28 28 28 28 28 28 28 28 28 28 28 29 30 30 31 31\n",
            " 31 31 32 32 32 32 32 32 32 33 33 33 33 33 33 33 33 33 33 33 34 34 34 34\n",
            " 34 34 34 34 34 34 34 34 34 34 34 34 35 35 35 35 35 35 35 35 35 35 35 35\n",
            " 35 35 35 35 35 35 35 35 35 35 36 36 36 36 36 36 36 36 36 36 36 36 36 36\n",
            " 36 36 36 36 36 36 36 36 36 36 36 36 36 36 36]\n",
            "[-1  5  8  2 10  3 29  1  9 -1 -1 -1  4 -1 -1  6 -1  7 -1  7 -1 -1 -1 -1\n",
            " 13 12 -1 13 -1 -1 13 -1 14 -1 15 -1 15 -1 16 -1 16 -1 17 -1 17 -1 18 -1\n",
            " 19 -1 19 19 -1 -1 -1 20 -1 20 -1 21 -1 21 21 21 -1 -1 -1 -1 -1 22 -1 22\n",
            " 22 -1 -1 -1 23 -1 23 23 23 -1 -1 -1 -1 -1 -1 24 -1 24 24 -1 -1 -1 25 -1\n",
            " 25 25 25 25 -1 -1 -1 -1 -1 -1 -1 -1 -1 26 -1 26 26 26 26 -1 -1 -1 -1 -1\n",
            " -1 -1 -1 -1 -1 27 -1 27 27 27 27 -1 -1 -1 -1 -1 -1 -1 -1 -1 -1 28 -1 28\n",
            " 28 28 28 28 -1 -1 -1 -1 -1 -1 -1 -1 -1 -1 -1 -1 -1 -1 -1 -1 30 -1 31 -1\n",
            " 31 -1 32 -1 32 32 -1 -1 -1 33 -1 33 33 33 -1 -1 -1 -1 -1 -1 34 -1 34 34\n",
            " 34 34 -1 -1 -1 -1 -1 -1 -1 -1 -1 -1 35 -1 35 35 35 35 35 -1 -1 -1 -1 -1\n",
            " -1 -1 -1 -1 -1 -1 -1 -1 -1 -1 36 -1 36 36 36 36 36 36 -1 -1 -1 -1 -1 -1\n",
            " -1 -1 -1 -1 -1 -1 -1 -1 -1 -1 -1 -1 -1 -1 -1]\n"
          ]
        },
        {
          "output_type": "display_data",
          "data": {
            "text/plain": [
              "<Figure size 640x480 with 1 Axes>"
            ],
            "image/png": "[encoded data removed]"
          },
          "metadata": {}
        }
      ]
    }
  ]
}